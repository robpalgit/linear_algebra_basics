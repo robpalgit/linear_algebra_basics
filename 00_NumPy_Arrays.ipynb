{
 "cells": [
  {
   "cell_type": "markdown",
   "id": "50c35b10",
   "metadata": {},
   "source": [
    "# Introduction to NumPy Arrays"
   ]
  },
  {
   "cell_type": "markdown",
   "id": "be659b56",
   "metadata": {},
   "source": [
    "1. NumPy N-dimensional Array.\n",
    "2. Functions to Create Arrays.\n",
    "    * Empty.\n",
    "    * Zeros.\n",
    "    * Ones.\n",
    "    * Other array creation routines.\n",
    "3. Creating Arrays from Lists.\n",
    "    * From List to 1-D Array.\n",
    "    * From List of Lists to 2-D Array.\n",
    "4. Combining Arrays.\n",
    "    * Vertical Stack.\n",
    "    * Horizontal Stack.\n",
    "5. Array Indexing.\n",
    "    * 1-D Indexing.\n",
    "    * 2-D Indexing.\n",
    "6. Array Slicing.\n",
    "    * 1-D Slicing.\n",
    "    * 2-D Slicing.\n",
    "7. Array Reshaping.\n",
    "    * Shape attribute\n",
    "    * Reshape 1D to 2D Array.\n",
    "    * Reshape 2D to 3D Array."
   ]
  },
  {
   "cell_type": "markdown",
   "id": "b1680a62",
   "metadata": {},
   "source": [
    "## 1. NumPy N-dimensional Array."
   ]
  },
  {
   "cell_type": "code",
   "execution_count": 1,
   "id": "4462a8bb",
   "metadata": {},
   "outputs": [
    {
     "name": "stdout",
     "output_type": "stream",
     "text": [
      "[1. 2. 3.]\n",
      "(3,)\n",
      "float64\n"
     ]
    }
   ],
   "source": [
    "from numpy import array\n",
    "\n",
    "l = [1.0, 2.0, 3.0]\n",
    "a = array(l)\n",
    "print(a)\n",
    "print(a.shape)\n",
    "print(a.dtype)"
   ]
  },
  {
   "cell_type": "markdown",
   "id": "5a81525f",
   "metadata": {},
   "source": [
    "#### List of array atributes:"
   ]
  },
  {
   "cell_type": "markdown",
   "id": "743b8aa5",
   "metadata": {},
   "source": [
    "https://docs.scipy.org/doc/numpy-1.13.0/reference/arrays.ndarray.html#array-attributes"
   ]
  },
  {
   "cell_type": "markdown",
   "id": "96b796f1",
   "metadata": {},
   "source": [
    "## 2. Functions to Create Arrays."
   ]
  },
  {
   "cell_type": "markdown",
   "id": "de1a3367",
   "metadata": {},
   "source": [
    "### Empty"
   ]
  },
  {
   "cell_type": "code",
   "execution_count": 2,
   "id": "c981e784",
   "metadata": {},
   "outputs": [
    {
     "name": "stdout",
     "output_type": "stream",
     "text": [
      "[[0.00000000e+000 0.00000000e+000 0.00000000e+000]\n",
      " [0.00000000e+000 0.00000000e+000 3.67584841e-321]\n",
      " [1.69117157e-306 6.23059725e-307 9.34597568e-307]]\n",
      "[[0 0 0]\n",
      " [0 0 0]\n",
      " [0 0 0]]\n"
     ]
    }
   ],
   "source": [
    "from numpy import empty\n",
    "\n",
    "a = empty([3,3])\n",
    "print(a)\n",
    "print(a.astype('int'))"
   ]
  },
  {
   "cell_type": "markdown",
   "id": "42d6cc72",
   "metadata": {},
   "source": [
    "### Zeros"
   ]
  },
  {
   "cell_type": "code",
   "execution_count": 3,
   "id": "e0ce1dcc",
   "metadata": {},
   "outputs": [
    {
     "name": "stdout",
     "output_type": "stream",
     "text": [
      "[[0. 0. 0. 0. 0.]\n",
      " [0. 0. 0. 0. 0.]\n",
      " [0. 0. 0. 0. 0.]]\n"
     ]
    }
   ],
   "source": [
    "from numpy import zeros\n",
    "\n",
    "a = zeros([3,5])\n",
    "print(a)"
   ]
  },
  {
   "cell_type": "markdown",
   "id": "e572e1a5",
   "metadata": {},
   "source": [
    "### Ones"
   ]
  },
  {
   "cell_type": "code",
   "execution_count": 4,
   "id": "75a023c0",
   "metadata": {},
   "outputs": [
    {
     "name": "stdout",
     "output_type": "stream",
     "text": [
      "[1. 1. 1. 1. 1.]\n"
     ]
    }
   ],
   "source": [
    "from numpy import ones\n",
    "\n",
    "a = ones([5])\n",
    "print(a)"
   ]
  },
  {
   "cell_type": "markdown",
   "id": "fcac07e6",
   "metadata": {},
   "source": [
    "### Other array creation routines:"
   ]
  },
  {
   "cell_type": "markdown",
   "id": "dfd5c253",
   "metadata": {},
   "source": [
    "https://docs.scipy.org/doc/numpy-1.13.0/reference/routines.array-creation.html"
   ]
  },
  {
   "cell_type": "markdown",
   "id": "c80ee5b9",
   "metadata": {},
   "source": [
    "## 3. Creating Arrays from Lists."
   ]
  },
  {
   "cell_type": "markdown",
   "id": "85711616",
   "metadata": {},
   "source": [
    "### From List to 1-D Array"
   ]
  },
  {
   "cell_type": "code",
   "execution_count": 5,
   "id": "ef4525a1",
   "metadata": {},
   "outputs": [
    {
     "name": "stdout",
     "output_type": "stream",
     "text": [
      "[11 22 33 44 55]\n",
      "<class 'numpy.ndarray'>\n"
     ]
    }
   ],
   "source": [
    "data = [11, 22, 33, 44, 55]\n",
    "data = array(data)\n",
    "print(data)\n",
    "print(type(data))"
   ]
  },
  {
   "cell_type": "markdown",
   "id": "ea01eaa1",
   "metadata": {},
   "source": [
    "### From List of Lists to 2-D Array"
   ]
  },
  {
   "cell_type": "code",
   "execution_count": 6,
   "id": "3b478d49",
   "metadata": {},
   "outputs": [
    {
     "name": "stdout",
     "output_type": "stream",
     "text": [
      "[[11 22]\n",
      " [33 44]\n",
      " [55 66]]\n",
      "<class 'numpy.ndarray'>\n"
     ]
    }
   ],
   "source": [
    "data = [\n",
    "    [11, 22],\n",
    "    [33, 44],\n",
    "    [55, 66]\n",
    "]\n",
    "data = array(data)\n",
    "print(data)\n",
    "print(type(data))"
   ]
  },
  {
   "cell_type": "markdown",
   "id": "1f78de67",
   "metadata": {},
   "source": [
    "## 4. Combining Arrays."
   ]
  },
  {
   "cell_type": "markdown",
   "id": "d41cfbcb",
   "metadata": {},
   "source": [
    "### Vertical Stack"
   ]
  },
  {
   "cell_type": "code",
   "execution_count": 7,
   "id": "e9f1c533",
   "metadata": {},
   "outputs": [
    {
     "name": "stdout",
     "output_type": "stream",
     "text": [
      "[[1 2 3]\n",
      " [4 5 6]]\n",
      "(2, 3)\n"
     ]
    }
   ],
   "source": [
    "from numpy import vstack\n",
    "\n",
    "a1 = array([1,2,3])\n",
    "a2 = array([4,5,6])\n",
    "\n",
    "a3 = vstack((a1, a2))\n",
    "print(a3)\n",
    "print(a3.shape)"
   ]
  },
  {
   "cell_type": "markdown",
   "id": "fb1b2c5e",
   "metadata": {},
   "source": [
    "### Horizontal Stack"
   ]
  },
  {
   "cell_type": "code",
   "execution_count": 8,
   "id": "5cf1b226",
   "metadata": {},
   "outputs": [
    {
     "name": "stdout",
     "output_type": "stream",
     "text": [
      "[1 2 3 4 5 6]\n",
      "(6,)\n"
     ]
    }
   ],
   "source": [
    "from numpy import hstack\n",
    "\n",
    "a1 = array([1,2,3])\n",
    "a2 = array([4,5,6])\n",
    "\n",
    "a3 = hstack((a1, a2))\n",
    "print(a3)\n",
    "print(a3.shape)"
   ]
  },
  {
   "cell_type": "markdown",
   "id": "8f85286c",
   "metadata": {},
   "source": [
    "## 5. Array Indexing."
   ]
  },
  {
   "cell_type": "markdown",
   "id": "1fbaf4cf",
   "metadata": {},
   "source": [
    "### 1-D Indexing"
   ]
  },
  {
   "cell_type": "code",
   "execution_count": 9,
   "id": "c2115183",
   "metadata": {},
   "outputs": [
    {
     "name": "stdout",
     "output_type": "stream",
     "text": [
      "11\n",
      "55\n"
     ]
    }
   ],
   "source": [
    "data = array([11, 22, 33, 44, 55])\n",
    "print(data[0])\n",
    "print(data[4])"
   ]
  },
  {
   "cell_type": "markdown",
   "id": "438ffdf1",
   "metadata": {},
   "source": [
    "#### Negative indexing"
   ]
  },
  {
   "cell_type": "code",
   "execution_count": 10,
   "id": "f8a9fe5c",
   "metadata": {},
   "outputs": [
    {
     "name": "stdout",
     "output_type": "stream",
     "text": [
      "55\n",
      "11\n"
     ]
    }
   ],
   "source": [
    "print(data[-1])\n",
    "print(data[-5])"
   ]
  },
  {
   "cell_type": "markdown",
   "id": "726f2eee",
   "metadata": {},
   "source": [
    "### 2-D Indexing"
   ]
  },
  {
   "cell_type": "code",
   "execution_count": 11,
   "id": "9811a316",
   "metadata": {},
   "outputs": [
    {
     "name": "stdout",
     "output_type": "stream",
     "text": [
      "11\n",
      "66\n",
      "[11 22]\n"
     ]
    }
   ],
   "source": [
    "data = array([[11, 22], [33, 44], [55, 66]])\n",
    "print(data[0,0])\n",
    "print(data[2,1])\n",
    "print(data[0,])"
   ]
  },
  {
   "cell_type": "markdown",
   "id": "de27716e",
   "metadata": {},
   "source": [
    "## 6. Array Slicing."
   ]
  },
  {
   "cell_type": "markdown",
   "id": "19b9f0db",
   "metadata": {},
   "source": [
    "### 1-D Slicing"
   ]
  },
  {
   "cell_type": "code",
   "execution_count": 12,
   "id": "8c8bb721",
   "metadata": {},
   "outputs": [
    {
     "name": "stdout",
     "output_type": "stream",
     "text": [
      "[11 22 33 44 55]\n",
      "[11]\n"
     ]
    }
   ],
   "source": [
    "data = array([11, 22, 33, 44, 55])\n",
    "print(data[:])\n",
    "print(data[0:1])"
   ]
  },
  {
   "cell_type": "markdown",
   "id": "e1eb751b",
   "metadata": {},
   "source": [
    "#### Using negative indexes"
   ]
  },
  {
   "cell_type": "code",
   "execution_count": 13,
   "id": "b632bab1",
   "metadata": {},
   "outputs": [
    {
     "name": "stdout",
     "output_type": "stream",
     "text": [
      "[44 55]\n",
      "[11 22 33]\n",
      "[55 44 33 22 11]\n"
     ]
    }
   ],
   "source": [
    "data = array([11, 22, 33, 44, 55])\n",
    "print(data[-2:])\n",
    "print(data[:-2])\n",
    "print(data[::-1])"
   ]
  },
  {
   "cell_type": "markdown",
   "id": "ca16b861",
   "metadata": {},
   "source": [
    "### 2-D Slicing"
   ]
  },
  {
   "cell_type": "markdown",
   "id": "f5554f02",
   "metadata": {},
   "source": [
    "#### Split Input and Output Features"
   ]
  },
  {
   "cell_type": "code",
   "execution_count": 14,
   "id": "7d07b334",
   "metadata": {},
   "outputs": [
    {
     "name": "stdout",
     "output_type": "stream",
     "text": [
      "[[11 22]\n",
      " [44 55]\n",
      " [77 88]]\n",
      "[33 66 99]\n"
     ]
    }
   ],
   "source": [
    "data = array([[11, 22, 33],\n",
    "              [44, 55, 66],\n",
    "              [77, 88, 99]])\n",
    "\n",
    "X, y = data[:, :-1], data[:, -1]\n",
    "print(X)\n",
    "print(y)"
   ]
  },
  {
   "cell_type": "markdown",
   "id": "4bea0612",
   "metadata": {},
   "source": [
    "#### Split Train and Test Rows"
   ]
  },
  {
   "cell_type": "code",
   "execution_count": 15,
   "id": "6ce2079d",
   "metadata": {},
   "outputs": [
    {
     "name": "stdout",
     "output_type": "stream",
     "text": [
      "[[11 22 33]\n",
      " [44 55 66]]\n",
      "[[77 88 99]]\n"
     ]
    }
   ],
   "source": [
    "data = array([[11, 22, 33],\n",
    "              [44, 55, 66],\n",
    "              [77, 88, 99]])\n",
    "\n",
    "split = 2\n",
    "train, test = data[:split, :], data[split:, :]\n",
    "print(train)\n",
    "print(test)"
   ]
  },
  {
   "cell_type": "markdown",
   "id": "7c7a2c42",
   "metadata": {},
   "source": [
    "## 7. Array Reshaping."
   ]
  },
  {
   "cell_type": "markdown",
   "id": "44ec3dd5",
   "metadata": {},
   "source": [
    "### Shape attribute"
   ]
  },
  {
   "cell_type": "markdown",
   "id": "9f22298c",
   "metadata": {},
   "source": [
    "#### 1-D array"
   ]
  },
  {
   "cell_type": "code",
   "execution_count": 16,
   "id": "b13b7d6e",
   "metadata": {},
   "outputs": [
    {
     "name": "stdout",
     "output_type": "stream",
     "text": [
      "(5,)\n"
     ]
    }
   ],
   "source": [
    "data = array([11, 22, 33, 44, 55])\n",
    "print(data.shape)"
   ]
  },
  {
   "cell_type": "markdown",
   "id": "36e08b05",
   "metadata": {},
   "source": [
    "#### 2-D array"
   ]
  },
  {
   "cell_type": "code",
   "execution_count": 17,
   "id": "b34536ae",
   "metadata": {},
   "outputs": [
    {
     "name": "stdout",
     "output_type": "stream",
     "text": [
      "(3, 2)\n",
      "Rows: 3\n",
      "Cols: 2\n"
     ]
    }
   ],
   "source": [
    "data = [[11, 22],\n",
    "        [33, 44],\n",
    "        [55, 66]]\n",
    "\n",
    "data = array(data)\n",
    "print(data.shape)\n",
    "print('Rows: %d' % data.shape[0])\n",
    "print('Cols: %d' % data.shape[1])"
   ]
  },
  {
   "cell_type": "markdown",
   "id": "867a175d",
   "metadata": {},
   "source": [
    "### Reshape 1D to 2D Array"
   ]
  },
  {
   "cell_type": "code",
   "execution_count": 18,
   "id": "971a1fef",
   "metadata": {},
   "outputs": [
    {
     "name": "stdout",
     "output_type": "stream",
     "text": [
      "(5,)\n",
      "(5, 1)\n"
     ]
    }
   ],
   "source": [
    "data = array([11, 22, 33, 44, 55])\n",
    "print(data.shape)\n",
    "\n",
    "data = data.reshape((data.shape[0], 1))\n",
    "print(data.shape)"
   ]
  },
  {
   "cell_type": "markdown",
   "id": "b7f1df40",
   "metadata": {},
   "source": [
    "### Reshape 2D to 3D Array"
   ]
  },
  {
   "cell_type": "code",
   "execution_count": 19,
   "id": "6e5c0dfc",
   "metadata": {},
   "outputs": [
    {
     "name": "stdout",
     "output_type": "stream",
     "text": [
      "(3, 2)\n",
      "(3, 2, 1)\n"
     ]
    }
   ],
   "source": [
    "data = [[11, 22],\n",
    "        [33, 44],\n",
    "        [55, 66]]\n",
    "\n",
    "data = array(data)\n",
    "print(data.shape)\n",
    "\n",
    "data = data.reshape((data.shape[0], data.shape[1], 1))\n",
    "print(data.shape)"
   ]
  },
  {
   "cell_type": "markdown",
   "id": "2ffe84cb",
   "metadata": {},
   "source": [
    "#### More on NumPy arrays slicing and indexing:"
   ]
  },
  {
   "cell_type": "markdown",
   "id": "b54c3b7a",
   "metadata": {},
   "source": [
    "https://numpy.org/doc/stable/reference/arrays.indexing.html"
   ]
  },
  {
   "cell_type": "code",
   "execution_count": null,
   "id": "f2904c08",
   "metadata": {},
   "outputs": [],
   "source": []
  }
 ],
 "metadata": {
  "kernelspec": {
   "display_name": "Python 3",
   "language": "python",
   "name": "python3"
  },
  "language_info": {
   "codemirror_mode": {
    "name": "ipython",
    "version": 3
   },
   "file_extension": ".py",
   "mimetype": "text/x-python",
   "name": "python",
   "nbconvert_exporter": "python",
   "pygments_lexer": "ipython3",
   "version": "3.7.3"
  }
 },
 "nbformat": 4,
 "nbformat_minor": 5
}

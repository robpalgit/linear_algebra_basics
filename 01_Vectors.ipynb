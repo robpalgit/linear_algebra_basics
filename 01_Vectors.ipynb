{
 "cells": [
  {
   "cell_type": "markdown",
   "id": "aa59bb09",
   "metadata": {},
   "source": [
    "# Introduction to Vectors for Machine Learning"
   ]
  },
  {
   "cell_type": "markdown",
   "id": "f1fbf706",
   "metadata": {},
   "source": [
    "1. What is a Vector?\n",
    "2. Defining a Vector in NumPy.\n",
    "3. Vector Arithmetic.\n",
    "* Addition.\n",
    "* Subtraction.\n",
    "* Multiplication.\n",
    "* Division.\n",
    "4. Vector Dot Product.\n",
    "5. Vector-Scalar Operations.\n",
    "* Addition.\n",
    "* Subtraction.\n",
    "* Multiplication.\n",
    "* Division.\n",
    "6. Vector Norm.\n",
    "* Vector L1 Norm\n",
    "* Vector L2 Norm\n",
    "* Vector Max Norm"
   ]
  },
  {
   "cell_type": "markdown",
   "id": "b8d20e74",
   "metadata": {},
   "source": [
    "## 1. What is a Vector?"
   ]
  },
  {
   "cell_type": "markdown",
   "id": "1823726b",
   "metadata": {},
   "source": [
    "A vector is a tuple of one or more values called scalars."
   ]
  },
  {
   "cell_type": "markdown",
   "id": "1a87e495",
   "metadata": {},
   "source": [
    "## 2. Defining a Vector in NumPy."
   ]
  },
  {
   "cell_type": "code",
   "execution_count": 1,
   "id": "007ca5d7",
   "metadata": {},
   "outputs": [
    {
     "name": "stdout",
     "output_type": "stream",
     "text": [
      "[1 2 3]\n"
     ]
    }
   ],
   "source": [
    "from numpy import array\n",
    "\n",
    "v = array([1, 2, 3])\n",
    "print(v)"
   ]
  },
  {
   "cell_type": "markdown",
   "id": "356d4408",
   "metadata": {},
   "source": [
    "## 3. Vector Arithmetic."
   ]
  },
  {
   "cell_type": "markdown",
   "id": "955bed71",
   "metadata": {},
   "source": [
    "### Vector Addition"
   ]
  },
  {
   "cell_type": "code",
   "execution_count": 2,
   "id": "9e267f27",
   "metadata": {},
   "outputs": [
    {
     "name": "stdout",
     "output_type": "stream",
     "text": [
      "[2 4 6]\n"
     ]
    }
   ],
   "source": [
    "a = array([1, 2, 3])\n",
    "b = array([1, 2, 3])\n",
    "c = a + b\n",
    "print(c)"
   ]
  },
  {
   "cell_type": "markdown",
   "id": "1e495253",
   "metadata": {},
   "source": [
    "### Vector Subtraction"
   ]
  },
  {
   "cell_type": "code",
   "execution_count": 3,
   "id": "0d4e88e2",
   "metadata": {},
   "outputs": [
    {
     "name": "stdout",
     "output_type": "stream",
     "text": [
      "[0.5 1.5 2.5]\n"
     ]
    }
   ],
   "source": [
    "a = array([1, 2, 3])\n",
    "b = array([0.5, 0.5, 0.5])\n",
    "c = a - b\n",
    "print(c)"
   ]
  },
  {
   "cell_type": "markdown",
   "id": "3544b9ac",
   "metadata": {},
   "source": [
    "### Vector Multiplication"
   ]
  },
  {
   "cell_type": "code",
   "execution_count": 4,
   "id": "40e05591",
   "metadata": {},
   "outputs": [
    {
     "name": "stdout",
     "output_type": "stream",
     "text": [
      "[1 4 9]\n"
     ]
    }
   ],
   "source": [
    "a = array([1, 2, 3])\n",
    "b = array([1, 2, 3])\n",
    "c = a * b\n",
    "print(c)"
   ]
  },
  {
   "cell_type": "markdown",
   "id": "cb1add56",
   "metadata": {},
   "source": [
    "### Vector Division"
   ]
  },
  {
   "cell_type": "code",
   "execution_count": 5,
   "id": "8c532a2e",
   "metadata": {},
   "outputs": [
    {
     "name": "stdout",
     "output_type": "stream",
     "text": [
      "[1. 1. 1.]\n"
     ]
    }
   ],
   "source": [
    "a = array([1, 2, 3])\n",
    "b = array([1, 2, 3])\n",
    "c = a / b\n",
    "print(c)"
   ]
  },
  {
   "cell_type": "code",
   "execution_count": 6,
   "id": "3e1d3dce",
   "metadata": {},
   "outputs": [
    {
     "name": "stdout",
     "output_type": "stream",
     "text": [
      "[1 1 1]\n"
     ]
    }
   ],
   "source": [
    "c = a // b\n",
    "print(c)"
   ]
  },
  {
   "cell_type": "code",
   "execution_count": 7,
   "id": "598c46df",
   "metadata": {},
   "outputs": [
    {
     "name": "stdout",
     "output_type": "stream",
     "text": [
      "[0 0 0]\n"
     ]
    }
   ],
   "source": [
    "c = a % b\n",
    "print(c)"
   ]
  },
  {
   "cell_type": "markdown",
   "id": "7e2496c1",
   "metadata": {},
   "source": [
    "## 4. Vector Dot Product."
   ]
  },
  {
   "cell_type": "markdown",
   "id": "d051ec1f",
   "metadata": {},
   "source": [
    "The dot product is the key tool for calculating vector projections, vector decompositions, and determining orthogonality. The name dot product comes from the symbol used to denote it."
   ]
  },
  {
   "cell_type": "markdown",
   "id": "2bc03a23",
   "metadata": {},
   "source": [
    "The operation can be used in machine learning to calculate the weighted sum of a vector."
   ]
  },
  {
   "cell_type": "code",
   "execution_count": 8,
   "id": "595e5ef5",
   "metadata": {},
   "outputs": [
    {
     "name": "stdout",
     "output_type": "stream",
     "text": [
      "14\n"
     ]
    }
   ],
   "source": [
    "a = array([1, 2, 3])\n",
    "b = array([1, 2, 3])\n",
    "c = a.dot(b)\n",
    "print(c)"
   ]
  },
  {
   "cell_type": "markdown",
   "id": "fac45b85",
   "metadata": {},
   "source": [
    "## 5. Vector-Scalar Operations."
   ]
  },
  {
   "cell_type": "code",
   "execution_count": 9,
   "id": "05cab5a5",
   "metadata": {},
   "outputs": [],
   "source": [
    "v = array([1, 2, 3])\n",
    "s = 0.5"
   ]
  },
  {
   "cell_type": "markdown",
   "id": "9f3b0bf5",
   "metadata": {},
   "source": [
    "### Vector-Scalar addition"
   ]
  },
  {
   "cell_type": "code",
   "execution_count": 10,
   "id": "bb1d253c",
   "metadata": {},
   "outputs": [
    {
     "name": "stdout",
     "output_type": "stream",
     "text": [
      "[1.5 2.5 3.5]\n"
     ]
    }
   ],
   "source": [
    "c = s + v\n",
    "print(c)"
   ]
  },
  {
   "cell_type": "markdown",
   "id": "cdae0b04",
   "metadata": {},
   "source": [
    "### Vector-Scalar subtraction"
   ]
  },
  {
   "cell_type": "code",
   "execution_count": 11,
   "id": "0edde8df",
   "metadata": {},
   "outputs": [
    {
     "name": "stdout",
     "output_type": "stream",
     "text": [
      "[0.5 1.5 2.5]\n"
     ]
    }
   ],
   "source": [
    "c = v - s\n",
    "print(c)"
   ]
  },
  {
   "cell_type": "markdown",
   "id": "e1ca85df",
   "metadata": {},
   "source": [
    "### Vector-Scalar multiplication"
   ]
  },
  {
   "cell_type": "code",
   "execution_count": 12,
   "id": "32fe5181",
   "metadata": {},
   "outputs": [
    {
     "name": "stdout",
     "output_type": "stream",
     "text": [
      "[0.5 1.  1.5]\n"
     ]
    }
   ],
   "source": [
    "c = s * v\n",
    "print(c)"
   ]
  },
  {
   "cell_type": "markdown",
   "id": "285336e8",
   "metadata": {},
   "source": [
    "### Vector-Scalar division"
   ]
  },
  {
   "cell_type": "code",
   "execution_count": 13,
   "id": "b5889ad2",
   "metadata": {},
   "outputs": [
    {
     "name": "stdout",
     "output_type": "stream",
     "text": [
      "[0.5 1.  1.5]\n"
     ]
    }
   ],
   "source": [
    "v = array([1, 2, 3])\n",
    "s = 2\n",
    "\n",
    "c = v / s\n",
    "print(c)"
   ]
  },
  {
   "cell_type": "code",
   "execution_count": 14,
   "id": "a516ccd4",
   "metadata": {},
   "outputs": [
    {
     "name": "stdout",
     "output_type": "stream",
     "text": [
      "[0 1 1]\n"
     ]
    }
   ],
   "source": [
    "c = v // s\n",
    "print(c)"
   ]
  },
  {
   "cell_type": "code",
   "execution_count": 15,
   "id": "810ddc2a",
   "metadata": {},
   "outputs": [
    {
     "name": "stdout",
     "output_type": "stream",
     "text": [
      "[1 0 1]\n"
     ]
    }
   ],
   "source": [
    "c = v % s\n",
    "print(c)"
   ]
  },
  {
   "cell_type": "markdown",
   "id": "b435af4c",
   "metadata": {},
   "source": [
    "## 6. Vector Norm"
   ]
  },
  {
   "cell_type": "markdown",
   "id": "4f5edb60",
   "metadata": {},
   "source": [
    "The length of a vector is a nonnegative number that describes the extent of the vector in space, and is sometimes referred to as the vector’s magnitude or the norm."
   ]
  },
  {
   "cell_type": "markdown",
   "id": "cea1edb5",
   "metadata": {},
   "source": [
    "### Vector L1 Norm"
   ]
  },
  {
   "cell_type": "markdown",
   "id": "03904a7d",
   "metadata": {},
   "source": [
    "The length of a vector can be calculated using the L1 norm, where the 1 is a superscript of the L, e.g. L^1."
   ]
  },
  {
   "cell_type": "markdown",
   "id": "b862e7a2",
   "metadata": {},
   "source": [
    "The notation for the L1 norm of a vector is ||v||1, where 1 is a subscript. As such, this length is sometimes called the **taxicab norm or the Manhattan norm**."
   ]
  },
  {
   "cell_type": "markdown",
   "id": "737dbd93",
   "metadata": {},
   "source": [
    "**The L1 norm is calculated as the sum of the absolute vector values**, where the absolute value of a scalar uses the notation |a1|. In effect, the norm is a calculation of the Manhattan distance from the origin of the vector space."
   ]
  },
  {
   "cell_type": "code",
   "execution_count": 16,
   "id": "aaa250e0",
   "metadata": {},
   "outputs": [
    {
     "name": "stdout",
     "output_type": "stream",
     "text": [
      "6.0\n"
     ]
    }
   ],
   "source": [
    "from numpy.linalg import norm\n",
    "\n",
    "v = array([1, 2, 3])\n",
    "l1 = norm(v, 1)\n",
    "print(l1)"
   ]
  },
  {
   "cell_type": "markdown",
   "id": "733f0391",
   "metadata": {},
   "source": [
    "### Vector L2 Norm"
   ]
  },
  {
   "cell_type": "markdown",
   "id": "02da76b3",
   "metadata": {},
   "source": [
    "The L2 norm calculates the distance of the vector coordinate from the origin of the vector space. **As such, it is also known as the Euclidean norm as it is calculated as the Euclidean distance from the origin**. The result is a positive distance value."
   ]
  },
  {
   "cell_type": "markdown",
   "id": "03e5c823",
   "metadata": {},
   "source": [
    "The L2 norm is calculated as the square root of the sum of the squared vector values."
   ]
  },
  {
   "cell_type": "code",
   "execution_count": 17,
   "id": "f23c887b",
   "metadata": {},
   "outputs": [
    {
     "name": "stdout",
     "output_type": "stream",
     "text": [
      "3.7416573867739413\n"
     ]
    }
   ],
   "source": [
    "v = array([1, 2, 3])\n",
    "l2 = norm(v)\n",
    "print(l2)"
   ]
  },
  {
   "cell_type": "markdown",
   "id": "0c564e74",
   "metadata": {},
   "source": [
    "By far, the L2 norm is more commonly used than other vector norms in machine learning."
   ]
  },
  {
   "cell_type": "markdown",
   "id": "14d2825c",
   "metadata": {},
   "source": [
    "### Vector Max Norm"
   ]
  },
  {
   "cell_type": "markdown",
   "id": "93cb59a8",
   "metadata": {},
   "source": [
    "Max norm of a vector is referred to as L^inf where inf is a superscript and can be represented with the infinity symbol. The notation for max norm is ||x||inf, where inf is a subscript."
   ]
  },
  {
   "cell_type": "markdown",
   "id": "1c47b5f4",
   "metadata": {},
   "source": [
    "The max norm is calculated as returning the **maximum value of the vector**, hence the name."
   ]
  },
  {
   "cell_type": "code",
   "execution_count": 18,
   "id": "146e566e",
   "metadata": {},
   "outputs": [
    {
     "name": "stdout",
     "output_type": "stream",
     "text": [
      "3.0\n"
     ]
    }
   ],
   "source": [
    "from numpy import inf\n",
    "\n",
    "v = array([1, 2, 3])\n",
    "maxnorm = norm(v, inf)\n",
    "print(maxnorm)"
   ]
  },
  {
   "cell_type": "markdown",
   "id": "d175cfc5",
   "metadata": {},
   "source": [
    "Max norm is also used as a regularization in machine learning, such as on neural network weights, called **max norm regularization**."
   ]
  },
  {
   "cell_type": "markdown",
   "id": "9c794023",
   "metadata": {},
   "source": [
    "https://en.wikipedia.org/wiki/Norm_(mathematics)"
   ]
  },
  {
   "cell_type": "code",
   "execution_count": null,
   "id": "b109331c",
   "metadata": {},
   "outputs": [],
   "source": []
  }
 ],
 "metadata": {
  "kernelspec": {
   "display_name": "Python 3",
   "language": "python",
   "name": "python3"
  },
  "language_info": {
   "codemirror_mode": {
    "name": "ipython",
    "version": 3
   },
   "file_extension": ".py",
   "mimetype": "text/x-python",
   "name": "python",
   "nbconvert_exporter": "python",
   "pygments_lexer": "ipython3",
   "version": "3.7.3"
  }
 },
 "nbformat": 4,
 "nbformat_minor": 5
}

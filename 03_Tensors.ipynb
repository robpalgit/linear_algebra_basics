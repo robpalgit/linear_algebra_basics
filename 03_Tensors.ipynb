{
 "cells": [
  {
   "cell_type": "markdown",
   "id": "dd4e0421",
   "metadata": {},
   "source": [
    "# Introduction to Tensors for Machine Learning"
   ]
  },
  {
   "cell_type": "markdown",
   "id": "7a3209ec",
   "metadata": {},
   "source": [
    "1. What are Tensors?\n",
    "2. Tensors in NumPy.\n",
    "3. Element-Wise Tensor Operations.\n",
    "    * Tensor Addition.\n",
    "    * Tensor Subtraction.\n",
    "    * Tensor Hadamard Product.\n",
    "    * Tensor Division.\n",
    "4. Tensor Product.\n",
    "    * Tensordot with vectors.\n",
    "    * Tensordot with matrices.\n",
    "    * Tensordot with tensors.\n",
    "    * Understanding tensordot.\n",
    "    * Outer product."
   ]
  },
  {
   "cell_type": "markdown",
   "id": "43d0a432",
   "metadata": {},
   "source": [
    "## 1. What are Tensors?"
   ]
  },
  {
   "cell_type": "markdown",
   "id": "d958ad1a",
   "metadata": {},
   "source": [
    "* A tensor is a generalization of vectors and matrices and is easily understood as a multidimensional array.\n",
    "* Tensor notation is much like matrix notation with a capital letter representing a tensor and lowercase letters with subscript integers representing scalar values within the tensor.\n",
    "* Many of the operations that can be performed with scalars, vectors, and matrices can be reformulated to be performed with tensors.\n",
    "* As a tool, tensors and tensor algebra is widely used in the fields of physics and engineering. It is a term and set of techniques known in machine learning in the training and operation of deep learning models can be described in terms of tensors."
   ]
  },
  {
   "cell_type": "markdown",
   "id": "974cfa0b",
   "metadata": {},
   "source": [
    "## 2. Tensors in NumPy."
   ]
  },
  {
   "cell_type": "code",
   "execution_count": 1,
   "id": "c56d659b",
   "metadata": {},
   "outputs": [
    {
     "name": "stdout",
     "output_type": "stream",
     "text": [
      "(3, 3, 3)\n",
      "[[[ 1  2  3]\n",
      "  [ 4  5  6]\n",
      "  [ 7  8  9]]\n",
      "\n",
      " [[11 12 13]\n",
      "  [14 15 16]\n",
      "  [17 18 19]]\n",
      "\n",
      " [[21 22 23]\n",
      "  [24 25 26]\n",
      "  [27 28 29]]]\n"
     ]
    }
   ],
   "source": [
    "from numpy import array\n",
    "\n",
    "# List of lists of lists for a 3-D Tensor\n",
    "T = [\n",
    "    [[1,2,3],    [4,5,6],    [7,8,9]],\n",
    "    [[11,12,13], [14,15,16], [17,18,19]],\n",
    "    [[21,22,23], [24,25,26], [27,28,29]]\n",
    "]\n",
    "\n",
    "T = array(T)\n",
    "print(T.shape)\n",
    "# The tensor is printed as a list of matrices\n",
    "print(T)"
   ]
  },
  {
   "cell_type": "markdown",
   "id": "82525ea7",
   "metadata": {},
   "source": [
    "## 3. Element-Wise Tensor Operations."
   ]
  },
  {
   "cell_type": "markdown",
   "id": "00540508",
   "metadata": {},
   "source": [
    "### Tensor Addition"
   ]
  },
  {
   "cell_type": "code",
   "execution_count": 2,
   "id": "2b7e3341",
   "metadata": {},
   "outputs": [
    {
     "name": "stdout",
     "output_type": "stream",
     "text": [
      "[[[ 2  4  6]\n",
      "  [ 8 10 12]\n",
      "  [14 16 18]]\n",
      "\n",
      " [[22 24 26]\n",
      "  [28 30 32]\n",
      "  [34 36 38]]\n",
      "\n",
      " [[42 44 46]\n",
      "  [48 50 52]\n",
      "  [54 56 58]]]\n"
     ]
    }
   ],
   "source": [
    "A = array([\n",
    "    [[1,2,3],    [4,5,6],    [7,8,9]],\n",
    "    [[11,12,13], [14,15,16], [17,18,19]],\n",
    "    [[21,22,23], [24,25,26], [27,28,29]]\n",
    "])\n",
    "\n",
    "B = array([\n",
    "    [[1,2,3],    [4,5,6],    [7,8,9]],\n",
    "    [[11,12,13], [14,15,16], [17,18,19]],\n",
    "    [[21,22,23], [24,25,26], [27,28,29]]\n",
    "])\n",
    "\n",
    "C = A + B\n",
    "print(C)"
   ]
  },
  {
   "cell_type": "markdown",
   "id": "319b834a",
   "metadata": {},
   "source": [
    "### Tensor Subtraction"
   ]
  },
  {
   "cell_type": "code",
   "execution_count": 3,
   "id": "3c85ff03",
   "metadata": {},
   "outputs": [
    {
     "name": "stdout",
     "output_type": "stream",
     "text": [
      "[[[0 0 0]\n",
      "  [0 0 0]\n",
      "  [0 0 0]]\n",
      "\n",
      " [[0 0 0]\n",
      "  [0 0 0]\n",
      "  [0 0 0]]\n",
      "\n",
      " [[0 0 0]\n",
      "  [0 0 0]\n",
      "  [0 0 0]]]\n"
     ]
    }
   ],
   "source": [
    "A = array([\n",
    "    [[1,2,3],    [4,5,6],    [7,8,9]],\n",
    "    [[11,12,13], [14,15,16], [17,18,19]],\n",
    "    [[21,22,23], [24,25,26], [27,28,29]]\n",
    "])\n",
    "\n",
    "B = array([\n",
    "    [[1,2,3],    [4,5,6],    [7,8,9]],\n",
    "    [[11,12,13], [14,15,16], [17,18,19]],\n",
    "    [[21,22,23], [24,25,26], [27,28,29]]\n",
    "])\n",
    "\n",
    "C = A - B\n",
    "print(C)"
   ]
  },
  {
   "cell_type": "markdown",
   "id": "3b0c473b",
   "metadata": {},
   "source": [
    "### Tensor Hadamard Product"
   ]
  },
  {
   "cell_type": "code",
   "execution_count": 4,
   "id": "67004ee2",
   "metadata": {},
   "outputs": [
    {
     "name": "stdout",
     "output_type": "stream",
     "text": [
      "[[[  1   4   9]\n",
      "  [ 16  25  36]\n",
      "  [ 49  64  81]]\n",
      "\n",
      " [[121 144 169]\n",
      "  [196 225 256]\n",
      "  [289 324 361]]\n",
      "\n",
      " [[441 484 529]\n",
      "  [576 625 676]\n",
      "  [729 784 841]]]\n"
     ]
    }
   ],
   "source": [
    "A = array([\n",
    "    [[1,2,3],    [4,5,6],    [7,8,9]],\n",
    "    [[11,12,13], [14,15,16], [17,18,19]],\n",
    "    [[21,22,23], [24,25,26], [27,28,29]]\n",
    "])\n",
    "\n",
    "B = array([\n",
    "    [[1,2,3],    [4,5,6],    [7,8,9]],\n",
    "    [[11,12,13], [14,15,16], [17,18,19]],\n",
    "    [[21,22,23], [24,25,26], [27,28,29]]\n",
    "])\n",
    "\n",
    "C = A * B\n",
    "print(C)"
   ]
  },
  {
   "cell_type": "markdown",
   "id": "7b988401",
   "metadata": {},
   "source": [
    "### Tensor Division"
   ]
  },
  {
   "cell_type": "code",
   "execution_count": 5,
   "id": "9219ef09",
   "metadata": {},
   "outputs": [
    {
     "name": "stdout",
     "output_type": "stream",
     "text": [
      "[[[1. 1. 1.]\n",
      "  [1. 1. 1.]\n",
      "  [1. 1. 1.]]\n",
      "\n",
      " [[1. 1. 1.]\n",
      "  [1. 1. 1.]\n",
      "  [1. 1. 1.]]\n",
      "\n",
      " [[1. 1. 1.]\n",
      "  [1. 1. 1.]\n",
      "  [1. 1. 1.]]]\n"
     ]
    }
   ],
   "source": [
    "A = array([\n",
    "    [[1,2,3],    [4,5,6],    [7,8,9]],\n",
    "    [[11,12,13], [14,15,16], [17,18,19]],\n",
    "    [[21,22,23], [24,25,26], [27,28,29]]\n",
    "])\n",
    "\n",
    "B = array([\n",
    "    [[1,2,3],    [4,5,6],    [7,8,9]],\n",
    "    [[11,12,13], [14,15,16], [17,18,19]],\n",
    "    [[21,22,23], [24,25,26], [27,28,29]]\n",
    "])\n",
    "\n",
    "C = A / B\n",
    "print(C)"
   ]
  },
  {
   "cell_type": "code",
   "execution_count": 6,
   "id": "bc5e25b9",
   "metadata": {},
   "outputs": [
    {
     "name": "stdout",
     "output_type": "stream",
     "text": [
      "[[[1 1 1]\n",
      "  [1 1 1]\n",
      "  [1 1 1]]\n",
      "\n",
      " [[1 1 1]\n",
      "  [1 1 1]\n",
      "  [1 1 1]]\n",
      "\n",
      " [[1 1 1]\n",
      "  [1 1 1]\n",
      "  [1 1 1]]]\n"
     ]
    }
   ],
   "source": [
    "C = A // B\n",
    "print(C)"
   ]
  },
  {
   "cell_type": "code",
   "execution_count": 7,
   "id": "1f498a63",
   "metadata": {},
   "outputs": [
    {
     "name": "stdout",
     "output_type": "stream",
     "text": [
      "[[[0 0 0]\n",
      "  [0 0 0]\n",
      "  [0 0 0]]\n",
      "\n",
      " [[0 0 0]\n",
      "  [0 0 0]\n",
      "  [0 0 0]]\n",
      "\n",
      " [[0 0 0]\n",
      "  [0 0 0]\n",
      "  [0 0 0]]]\n"
     ]
    }
   ],
   "source": [
    "C = A % B\n",
    "print(C)"
   ]
  },
  {
   "cell_type": "markdown",
   "id": "32df45b7",
   "metadata": {},
   "source": [
    "## 4. Tensor Product."
   ]
  },
  {
   "cell_type": "markdown",
   "id": "56bc8619",
   "metadata": {},
   "source": [
    "* The tensor product operator is often denoted as **a circle with a small x in the middle**. We will denote it here as “(x)”.\n",
    "* Given a tensor A with q dimensions and tensor B with r dimensions, **the product of these tensors will be a new tensor with the order of q + r or, said another way, q + r dimensions**.\n",
    "* The tensor product can be implemented in NumPy using the **tensordot()** function.\n",
    "* The function takes as arguments the two tensors to be multiplied and the axis on which to sum the products over, called the sum reduction. \n",
    "* **To calculate the tensor product, also called the tensor dot product in NumPy, the axis must be set to 0**."
   ]
  },
  {
   "cell_type": "markdown",
   "id": "e09815d8",
   "metadata": {},
   "source": [
    "https://numpy.org/doc/stable/reference/generated/numpy.tensordot.html"
   ]
  },
  {
   "cell_type": "markdown",
   "id": "aeaec465",
   "metadata": {},
   "source": [
    "**numpy.tensordot(*a, b, axes=2*)**"
   ]
  },
  {
   "cell_type": "markdown",
   "id": "03d558c3",
   "metadata": {},
   "source": [
    "### Tensordot with vectors"
   ]
  },
  {
   "cell_type": "code",
   "execution_count": 8,
   "id": "237a0d34",
   "metadata": {},
   "outputs": [
    {
     "name": "stdout",
     "output_type": "stream",
     "text": [
      "(2,)\n",
      "(2,)\n",
      "(2, 2)\n",
      "[[3 4]\n",
      " [6 8]]\n"
     ]
    }
   ],
   "source": [
    "from numpy import tensordot\n",
    "\n",
    "a = array([1,2])\n",
    "b = array([3,4])\n",
    "c = tensordot(a, b, axes=0)\n",
    "print(a.shape)\n",
    "print(b.shape)\n",
    "print(c.shape)\n",
    "print(c)"
   ]
  },
  {
   "cell_type": "code",
   "execution_count": 9,
   "id": "12d4ce3c",
   "metadata": {},
   "outputs": [
    {
     "name": "stdout",
     "output_type": "stream",
     "text": [
      "11\n"
     ]
    }
   ],
   "source": [
    "c = tensordot(a, b, axes=1)\n",
    "print(c)"
   ]
  },
  {
   "cell_type": "code",
   "execution_count": 10,
   "id": "4266f650",
   "metadata": {},
   "outputs": [
    {
     "name": "stdout",
     "output_type": "stream",
     "text": [
      "11\n"
     ]
    }
   ],
   "source": [
    "c = a.dot(b)\n",
    "print(c)"
   ]
  },
  {
   "cell_type": "markdown",
   "id": "91913397",
   "metadata": {},
   "source": [
    "### Tensordot with matrices"
   ]
  },
  {
   "cell_type": "code",
   "execution_count": 11,
   "id": "7e45801f",
   "metadata": {},
   "outputs": [
    {
     "name": "stdout",
     "output_type": "stream",
     "text": [
      "(2, 2)\n",
      "(2, 2)\n",
      "(2, 2, 2, 2)\n",
      "[[[[ 1  2]\n",
      "   [ 3  4]]\n",
      "\n",
      "  [[ 2  4]\n",
      "   [ 6  8]]]\n",
      "\n",
      "\n",
      " [[[ 3  6]\n",
      "   [ 9 12]]\n",
      "\n",
      "  [[ 4  8]\n",
      "   [12 16]]]]\n"
     ]
    }
   ],
   "source": [
    "A = array([[1, 2], [3, 4]])\n",
    "B = array([[1, 2], [3, 4]])\n",
    "C = tensordot(A, B, axes=0)\n",
    "print(A.shape)\n",
    "print(B.shape)\n",
    "print(C.shape)\n",
    "print(C)"
   ]
  },
  {
   "cell_type": "code",
   "execution_count": 12,
   "id": "f62bbef3",
   "metadata": {},
   "outputs": [
    {
     "name": "stdout",
     "output_type": "stream",
     "text": [
      "(2, 2)\n",
      "[[ 7 10]\n",
      " [15 22]]\n"
     ]
    }
   ],
   "source": [
    "C = tensordot(A, B, axes=1)\n",
    "print(C.shape)\n",
    "print(C)"
   ]
  },
  {
   "cell_type": "code",
   "execution_count": 13,
   "id": "d5bbbe4e",
   "metadata": {},
   "outputs": [
    {
     "name": "stdout",
     "output_type": "stream",
     "text": [
      "[[ 7 10]\n",
      " [15 22]]\n"
     ]
    }
   ],
   "source": [
    "C = A.dot(B)\n",
    "print(C)"
   ]
  },
  {
   "cell_type": "code",
   "execution_count": 14,
   "id": "3127d3d4",
   "metadata": {},
   "outputs": [
    {
     "name": "stdout",
     "output_type": "stream",
     "text": [
      "30\n"
     ]
    }
   ],
   "source": [
    "C = tensordot(A, B, axes=2)\n",
    "print(C)"
   ]
  },
  {
   "cell_type": "markdown",
   "id": "d8bef768",
   "metadata": {},
   "source": [
    "### Tensordot with tensors"
   ]
  },
  {
   "cell_type": "code",
   "execution_count": 15,
   "id": "b06791fb",
   "metadata": {},
   "outputs": [
    {
     "name": "stdout",
     "output_type": "stream",
     "text": [
      "(3, 2, 2)\n",
      "(3, 2, 2)\n",
      "(3, 2, 2, 3, 2, 2)\n",
      "[[[[[[  1   2]\n",
      "     [  3   4]]\n",
      "\n",
      "    [[  5   6]\n",
      "     [  7   8]]\n",
      "\n",
      "    [[  9  10]\n",
      "     [ 11  12]]]\n",
      "\n",
      "\n",
      "   [[[  2   4]\n",
      "     [  6   8]]\n",
      "\n",
      "    [[ 10  12]\n",
      "     [ 14  16]]\n",
      "\n",
      "    [[ 18  20]\n",
      "     [ 22  24]]]]\n",
      "\n",
      "\n",
      "\n",
      "  [[[[  3   6]\n",
      "     [  9  12]]\n",
      "\n",
      "    [[ 15  18]\n",
      "     [ 21  24]]\n",
      "\n",
      "    [[ 27  30]\n",
      "     [ 33  36]]]\n",
      "\n",
      "\n",
      "   [[[  4   8]\n",
      "     [ 12  16]]\n",
      "\n",
      "    [[ 20  24]\n",
      "     [ 28  32]]\n",
      "\n",
      "    [[ 36  40]\n",
      "     [ 44  48]]]]]\n",
      "\n",
      "\n",
      "\n",
      "\n",
      " [[[[[  5  10]\n",
      "     [ 15  20]]\n",
      "\n",
      "    [[ 25  30]\n",
      "     [ 35  40]]\n",
      "\n",
      "    [[ 45  50]\n",
      "     [ 55  60]]]\n",
      "\n",
      "\n",
      "   [[[  6  12]\n",
      "     [ 18  24]]\n",
      "\n",
      "    [[ 30  36]\n",
      "     [ 42  48]]\n",
      "\n",
      "    [[ 54  60]\n",
      "     [ 66  72]]]]\n",
      "\n",
      "\n",
      "\n",
      "  [[[[  7  14]\n",
      "     [ 21  28]]\n",
      "\n",
      "    [[ 35  42]\n",
      "     [ 49  56]]\n",
      "\n",
      "    [[ 63  70]\n",
      "     [ 77  84]]]\n",
      "\n",
      "\n",
      "   [[[  8  16]\n",
      "     [ 24  32]]\n",
      "\n",
      "    [[ 40  48]\n",
      "     [ 56  64]]\n",
      "\n",
      "    [[ 72  80]\n",
      "     [ 88  96]]]]]\n",
      "\n",
      "\n",
      "\n",
      "\n",
      " [[[[[  9  18]\n",
      "     [ 27  36]]\n",
      "\n",
      "    [[ 45  54]\n",
      "     [ 63  72]]\n",
      "\n",
      "    [[ 81  90]\n",
      "     [ 99 108]]]\n",
      "\n",
      "\n",
      "   [[[ 10  20]\n",
      "     [ 30  40]]\n",
      "\n",
      "    [[ 50  60]\n",
      "     [ 70  80]]\n",
      "\n",
      "    [[ 90 100]\n",
      "     [110 120]]]]\n",
      "\n",
      "\n",
      "\n",
      "  [[[[ 11  22]\n",
      "     [ 33  44]]\n",
      "\n",
      "    [[ 55  66]\n",
      "     [ 77  88]]\n",
      "\n",
      "    [[ 99 110]\n",
      "     [121 132]]]\n",
      "\n",
      "\n",
      "   [[[ 12  24]\n",
      "     [ 36  48]]\n",
      "\n",
      "    [[ 60  72]\n",
      "     [ 84  96]]\n",
      "\n",
      "    [[108 120]\n",
      "     [132 144]]]]]]\n"
     ]
    }
   ],
   "source": [
    "A = array([\n",
    "    [[1,2], [3,4]],\n",
    "    [[5,6], [7,8]],\n",
    "    [[9,10], [11,12]]\n",
    "])\n",
    "\n",
    "B = array([\n",
    "    [[1,2], [3,4]],\n",
    "    [[5,6], [7,8]],\n",
    "    [[9,10], [11,12]]\n",
    "])\n",
    "\n",
    "C = tensordot(A, B, axes=0)\n",
    "print(A.shape)\n",
    "print(B.shape)\n",
    "print(C.shape)\n",
    "print(C)"
   ]
  },
  {
   "cell_type": "code",
   "execution_count": 16,
   "id": "c8bd4e01",
   "metadata": {},
   "outputs": [
    {
     "name": "stdout",
     "output_type": "stream",
     "text": [
      "(3, 3, 3)\n",
      "(3, 3, 3)\n",
      "(3, 3, 3, 3)\n",
      "[[[[  86   92   98]\n",
      "   [ 104  110  116]\n",
      "   [ 122  128  134]]\n",
      "\n",
      "  [[ 185  200  215]\n",
      "   [ 230  245  260]\n",
      "   [ 275  290  305]]\n",
      "\n",
      "  [[ 284  308  332]\n",
      "   [ 356  380  404]\n",
      "   [ 428  452  476]]]\n",
      "\n",
      "\n",
      " [[[ 416  452  488]\n",
      "   [ 524  560  596]\n",
      "   [ 632  668  704]]\n",
      "\n",
      "  [[ 515  560  605]\n",
      "   [ 650  695  740]\n",
      "   [ 785  830  875]]\n",
      "\n",
      "  [[ 614  668  722]\n",
      "   [ 776  830  884]\n",
      "   [ 938  992 1046]]]\n",
      "\n",
      "\n",
      " [[[ 746  812  878]\n",
      "   [ 944 1010 1076]\n",
      "   [1142 1208 1274]]\n",
      "\n",
      "  [[ 845  920  995]\n",
      "   [1070 1145 1220]\n",
      "   [1295 1370 1445]]\n",
      "\n",
      "  [[ 944 1028 1112]\n",
      "   [1196 1280 1364]\n",
      "   [1448 1532 1616]]]]\n"
     ]
    }
   ],
   "source": [
    "A = array([\n",
    "    [[1,2,3],    [4,5,6],    [7,8,9]],\n",
    "    [[11,12,13], [14,15,16], [17,18,19]],\n",
    "    [[21,22,23], [24,25,26], [27,28,29]]\n",
    "])\n",
    "\n",
    "B = array([\n",
    "    [[1,2,3],    [4,5,6],    [7,8,9]],\n",
    "    [[11,12,13], [14,15,16], [17,18,19]],\n",
    "    [[21,22,23], [24,25,26], [27,28,29]]\n",
    "])\n",
    "\n",
    "C = tensordot(A, B, axes=1)\n",
    "print(A.shape)\n",
    "print(B.shape)\n",
    "print(C.shape)\n",
    "print(C)"
   ]
  },
  {
   "cell_type": "code",
   "execution_count": 17,
   "id": "092ef5a2",
   "metadata": {},
   "outputs": [
    {
     "name": "stdout",
     "output_type": "stream",
     "text": [
      "(3, 3)\n",
      "[[ 828  873  918]\n",
      " [2088 2223 2358]\n",
      " [3348 3573 3798]]\n"
     ]
    }
   ],
   "source": [
    "C = tensordot(A, B, axes=2)\n",
    "print(C.shape)\n",
    "print(C)"
   ]
  },
  {
   "cell_type": "code",
   "execution_count": 18,
   "id": "348bc908",
   "metadata": {},
   "outputs": [
    {
     "name": "stdout",
     "output_type": "stream",
     "text": [
      "8055\n"
     ]
    }
   ],
   "source": [
    "C = tensordot(A, B, axes=3)\n",
    "print(C)"
   ]
  },
  {
   "cell_type": "markdown",
   "id": "0071ee0e",
   "metadata": {},
   "source": [
    "* The **tensor product** is the most common form of tensor multiplication that you may encounter, but there are many other types of tensor multiplications that exist, such as the **tensor dot product** and the **tensor contraction**."
   ]
  },
  {
   "cell_type": "markdown",
   "id": "3fd83dd8",
   "metadata": {},
   "source": [
    "### Understanding tensordot"
   ]
  },
  {
   "cell_type": "markdown",
   "id": "3a0730ca",
   "metadata": {},
   "source": [
    "https://stackoverflow.com/questions/41870228/understanding-tensordot"
   ]
  },
  {
   "cell_type": "markdown",
   "id": "002ed273",
   "metadata": {},
   "source": [
    "### Outer product"
   ]
  },
  {
   "cell_type": "markdown",
   "id": "0ff180a5",
   "metadata": {},
   "source": [
    "https://en.wikipedia.org/wiki/Outer_product"
   ]
  },
  {
   "cell_type": "markdown",
   "id": "0c0ae7fa",
   "metadata": {},
   "source": [
    "* In linear algebra, the outer product of two coordinate vectors is a matrix. If the two vectors have dimensions n and m, then their outer product is an n × m matrix.\n",
    "* More generally, given two tensors (multidimensional arrays of numbers), their outer product is a tensor.\n",
    "* **The outer product of tensors is also referred to as their tensor product**, and can be used to define the tensor algebra."
   ]
  },
  {
   "cell_type": "markdown",
   "id": "719b874a",
   "metadata": {},
   "source": [
    "The outer product contrasts with:\n",
    "\n",
    "* **The dot product**, which takes a pair of coordinate vectors as input and produces a scalar.\n",
    "* **The Kronecker product**, which takes a pair of matrices as input and produces a block matrix.\n",
    "* **Standard matrix multiplication**."
   ]
  },
  {
   "cell_type": "markdown",
   "id": "ecf43e35",
   "metadata": {},
   "source": [
    "https://jeremykun.com/2016/03/28/tensorphobia-outer-product/"
   ]
  },
  {
   "cell_type": "code",
   "execution_count": null,
   "id": "a4a7b1e0",
   "metadata": {},
   "outputs": [],
   "source": []
  }
 ],
 "metadata": {
  "kernelspec": {
   "display_name": "Python 3",
   "language": "python",
   "name": "python3"
  },
  "language_info": {
   "codemirror_mode": {
    "name": "ipython",
    "version": 3
   },
   "file_extension": ".py",
   "mimetype": "text/x-python",
   "name": "python",
   "nbconvert_exporter": "python",
   "pygments_lexer": "ipython3",
   "version": "3.7.3"
  }
 },
 "nbformat": 4,
 "nbformat_minor": 5
}

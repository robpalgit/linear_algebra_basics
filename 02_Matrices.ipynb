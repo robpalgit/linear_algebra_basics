{
 "cells": [
  {
   "cell_type": "markdown",
   "id": "523ce7a0",
   "metadata": {},
   "source": [
    "# Introduction to Matrices for Machine Learning"
   ]
  },
  {
   "cell_type": "markdown",
   "id": "b860880a",
   "metadata": {},
   "source": [
    "1. What is a Matrix?\n",
    "2. Defining a Matrix in NumPy.\n",
    "3. Matrix Arithmetic.\n",
    "    * Matrix Addition.\n",
    "    * Matrix Subtraction.\n",
    "    * Matrix Multiplication (Hadamard Product).\n",
    "    * Matrix Division.\n",
    "4. Dot Product.\n",
    "    * Matrix-Matrix Multiplication.\n",
    "    * Matrix-Vector Multiplication.\n",
    "5. Matrix-Scalar Operations.\n",
    "    * Addition.\n",
    "    * Subtraction.\n",
    "    * Multiplication.\n",
    "    * Division.\n",
    "6. Matrix Types.\n",
    "    * Square Matrix.\n",
    "    * Symmetric Matrix.\n",
    "    * Triangular Matrix.\n",
    "    * Diagonal Matrix.\n",
    "    * Identity Matrix.\n",
    "    * Orthogonal Matrix.\n",
    "7. Matrix Operations.\n",
    "    * Transpose.\n",
    "    * Inversion.\n",
    "    * Trace.\n",
    "    * Determinant.\n",
    "    * Rank."
   ]
  },
  {
   "cell_type": "markdown",
   "id": "a8dfd9fa",
   "metadata": {},
   "source": [
    "## 1. What is a Matrix?"
   ]
  },
  {
   "cell_type": "markdown",
   "id": "79ba7d8a",
   "metadata": {},
   "source": [
    "A matrix is a two-dimensional array of scalars with one or more columns and one or more rows."
   ]
  },
  {
   "cell_type": "markdown",
   "id": "0e6f3326",
   "metadata": {},
   "source": [
    "## 2. Defining a Matrix in NumPy."
   ]
  },
  {
   "cell_type": "code",
   "execution_count": 1,
   "id": "6406889e",
   "metadata": {},
   "outputs": [
    {
     "name": "stdout",
     "output_type": "stream",
     "text": [
      "[[1 2 3]\n",
      " [4 5 6]]\n"
     ]
    }
   ],
   "source": [
    "from numpy import array\n",
    "\n",
    "A = [[1, 2, 3], [4, 5, 6]]\n",
    "A = array(A)\n",
    "print(A)"
   ]
  },
  {
   "cell_type": "markdown",
   "id": "d2c587eb",
   "metadata": {},
   "source": [
    "## 3. Matrix Arithmetic."
   ]
  },
  {
   "cell_type": "markdown",
   "id": "ec38c20e",
   "metadata": {},
   "source": [
    "### Matrix Addition"
   ]
  },
  {
   "cell_type": "code",
   "execution_count": 2,
   "id": "363f1181",
   "metadata": {},
   "outputs": [
    {
     "name": "stdout",
     "output_type": "stream",
     "text": [
      "[[ 2  4  6]\n",
      " [ 8 10 12]]\n"
     ]
    }
   ],
   "source": [
    "A = array([[1, 2, 3], [4, 5, 6]])\n",
    "B = array([[1, 2, 3], [4, 5, 6]])\n",
    "C = A + B\n",
    "print(C)"
   ]
  },
  {
   "cell_type": "markdown",
   "id": "95af2494",
   "metadata": {},
   "source": [
    "### Matrix Subtraction"
   ]
  },
  {
   "cell_type": "code",
   "execution_count": 3,
   "id": "4aa28002",
   "metadata": {},
   "outputs": [
    {
     "name": "stdout",
     "output_type": "stream",
     "text": [
      "[[0.5 1.5 2.5]\n",
      " [3.5 4.5 5.5]]\n"
     ]
    }
   ],
   "source": [
    "A = array([[1, 2, 3], [4, 5, 6]])\n",
    "B = array([[0.5, 0.5, 0.5], [0.5, 0.5, 0.5]])\n",
    "C = A - B\n",
    "print(C)"
   ]
  },
  {
   "cell_type": "markdown",
   "id": "d22565a2",
   "metadata": {},
   "source": [
    "### Matrix Multiplication (Hadamard Product)"
   ]
  },
  {
   "cell_type": "markdown",
   "id": "9ade0807",
   "metadata": {},
   "source": [
    "Two matrices with the same size can be multiplied together, and this is often called element-wise matrix multiplication or the Hadamard product."
   ]
  },
  {
   "cell_type": "markdown",
   "id": "f1b1c72f",
   "metadata": {},
   "source": [
    "It is not the typical operation meant when referring to matrix multiplication, therefore a different operator is often used, such as a circle “o”."
   ]
  },
  {
   "cell_type": "code",
   "execution_count": 4,
   "id": "c074dc62",
   "metadata": {},
   "outputs": [
    {
     "name": "stdout",
     "output_type": "stream",
     "text": [
      "[[ 1  4  9]\n",
      " [16 25 36]]\n"
     ]
    }
   ],
   "source": [
    "A = array([[1, 2, 3], [4, 5, 6]])\n",
    "B = array([[1, 2, 3], [4, 5, 6]])\n",
    "C = A * B\n",
    "print(C)"
   ]
  },
  {
   "cell_type": "markdown",
   "id": "3ebf71da",
   "metadata": {},
   "source": [
    "### Matrix Division"
   ]
  },
  {
   "cell_type": "code",
   "execution_count": 5,
   "id": "52e9a04d",
   "metadata": {},
   "outputs": [
    {
     "name": "stdout",
     "output_type": "stream",
     "text": [
      "[[1. 1. 1.]\n",
      " [1. 1. 1.]]\n"
     ]
    }
   ],
   "source": [
    "A = array([[1, 2, 3], [4, 5, 6]])\n",
    "B = array([[1, 2, 3], [4, 5, 6]])\n",
    "C = A / B\n",
    "print(C)"
   ]
  },
  {
   "cell_type": "code",
   "execution_count": 6,
   "id": "6e60e29a",
   "metadata": {},
   "outputs": [
    {
     "name": "stdout",
     "output_type": "stream",
     "text": [
      "[[1 1 1]\n",
      " [1 1 1]]\n"
     ]
    }
   ],
   "source": [
    "C = A // B\n",
    "print(C)"
   ]
  },
  {
   "cell_type": "code",
   "execution_count": 7,
   "id": "639e335c",
   "metadata": {},
   "outputs": [
    {
     "name": "stdout",
     "output_type": "stream",
     "text": [
      "[[0 0 0]\n",
      " [0 0 0]]\n"
     ]
    }
   ],
   "source": [
    "C = A % B\n",
    "print(C)"
   ]
  },
  {
   "cell_type": "markdown",
   "id": "e12c7794",
   "metadata": {},
   "source": [
    "## 4. Dot Product."
   ]
  },
  {
   "cell_type": "markdown",
   "id": "5bfb6a80",
   "metadata": {},
   "source": [
    "### Matrix-Matrix Multiplication"
   ]
  },
  {
   "cell_type": "code",
   "execution_count": 8,
   "id": "f7eca0cd",
   "metadata": {},
   "outputs": [
    {
     "name": "stdout",
     "output_type": "stream",
     "text": [
      "[[ 7 10]\n",
      " [15 22]\n",
      " [23 34]]\n"
     ]
    }
   ],
   "source": [
    "A = array([[1, 2], [3, 4], [5, 6]])\n",
    "B = array([[1, 2], [3, 4]])\n",
    "C = A.dot(B)\n",
    "print(C)"
   ]
  },
  {
   "cell_type": "markdown",
   "id": "511a4ade",
   "metadata": {},
   "source": [
    "### Matrix-Vector Multiplication"
   ]
  },
  {
   "cell_type": "code",
   "execution_count": 9,
   "id": "070eab31",
   "metadata": {},
   "outputs": [
    {
     "name": "stdout",
     "output_type": "stream",
     "text": [
      "[1.5 3.5 5.5]\n"
     ]
    }
   ],
   "source": [
    "A = array([[1, 2], [3, 4], [5, 6]])\n",
    "v = array([0.5, 0.5])\n",
    "C = A.dot(v)\n",
    "print(C)"
   ]
  },
  {
   "cell_type": "markdown",
   "id": "1206b638",
   "metadata": {},
   "source": [
    "## 5. Matrix-Scalar Operations."
   ]
  },
  {
   "cell_type": "markdown",
   "id": "539e444f",
   "metadata": {},
   "source": [
    "### Addition"
   ]
  },
  {
   "cell_type": "code",
   "execution_count": 10,
   "id": "edc453bc",
   "metadata": {},
   "outputs": [
    {
     "name": "stdout",
     "output_type": "stream",
     "text": [
      "[[3 4]\n",
      " [5 6]\n",
      " [7 8]]\n"
     ]
    }
   ],
   "source": [
    "A = array([[1, 2], [3, 4], [5, 6]])\n",
    "s = 2\n",
    "C = A + s\n",
    "print(C)"
   ]
  },
  {
   "cell_type": "markdown",
   "id": "12f88d5a",
   "metadata": {},
   "source": [
    "### Subtraction"
   ]
  },
  {
   "cell_type": "code",
   "execution_count": 11,
   "id": "dea58dfa",
   "metadata": {},
   "outputs": [
    {
     "name": "stdout",
     "output_type": "stream",
     "text": [
      "[[0.5 1.5]\n",
      " [2.5 3.5]\n",
      " [4.5 5.5]]\n"
     ]
    }
   ],
   "source": [
    "s = 0.5\n",
    "C = A - s\n",
    "print(C)"
   ]
  },
  {
   "cell_type": "markdown",
   "id": "e17faeb2",
   "metadata": {},
   "source": [
    "### Multiplication"
   ]
  },
  {
   "cell_type": "code",
   "execution_count": 12,
   "id": "76cce0d6",
   "metadata": {},
   "outputs": [
    {
     "name": "stdout",
     "output_type": "stream",
     "text": [
      "[[ 2  4]\n",
      " [ 6  8]\n",
      " [10 12]]\n"
     ]
    }
   ],
   "source": [
    "s = 2\n",
    "C = A * s\n",
    "print(C)"
   ]
  },
  {
   "cell_type": "markdown",
   "id": "0189ef22",
   "metadata": {},
   "source": [
    "### Division"
   ]
  },
  {
   "cell_type": "code",
   "execution_count": 13,
   "id": "2946abde",
   "metadata": {},
   "outputs": [
    {
     "name": "stdout",
     "output_type": "stream",
     "text": [
      "[[0.5 1. ]\n",
      " [1.5 2. ]\n",
      " [2.5 3. ]]\n"
     ]
    }
   ],
   "source": [
    "C = A / s\n",
    "print(C)"
   ]
  },
  {
   "cell_type": "code",
   "execution_count": 14,
   "id": "f8abafef",
   "metadata": {},
   "outputs": [
    {
     "name": "stdout",
     "output_type": "stream",
     "text": [
      "[[0 1]\n",
      " [1 2]\n",
      " [2 3]]\n"
     ]
    }
   ],
   "source": [
    "C = A // s\n",
    "print(C)"
   ]
  },
  {
   "cell_type": "code",
   "execution_count": 15,
   "id": "88362893",
   "metadata": {},
   "outputs": [
    {
     "name": "stdout",
     "output_type": "stream",
     "text": [
      "[[1 0]\n",
      " [1 0]\n",
      " [1 0]]\n"
     ]
    }
   ],
   "source": [
    "C = A % s\n",
    "print(C)"
   ]
  },
  {
   "cell_type": "markdown",
   "id": "f10dd61b",
   "metadata": {},
   "source": [
    "## 6. Matrix Types."
   ]
  },
  {
   "cell_type": "markdown",
   "id": "985a7f44",
   "metadata": {},
   "source": [
    "### Square Matrix"
   ]
  },
  {
   "cell_type": "markdown",
   "id": "8c6d2d71",
   "metadata": {},
   "source": [
    "* A square matrix is a matrix where the number of rows (n) equals the number of columns (m).\n",
    "* The square matrix is contrasted with the rectangular matrix where the number of rows and columns are not equal.\n",
    "* The size of the matrix is called the order, so an order 4 square matrix is 4 x 4.\n",
    "* The vector of values along the diagonal of the matrix from the top left to the bottom right is called the main diagonal.\n",
    "* Square matrices are readily added and multiplied together and are the basis of many simple linear transformations, such as rotations (as in the rotations of images)."
   ]
  },
  {
   "cell_type": "markdown",
   "id": "24291bee",
   "metadata": {},
   "source": [
    "### Symmetric Matrix"
   ]
  },
  {
   "cell_type": "markdown",
   "id": "943dd5ed",
   "metadata": {},
   "source": [
    "* A symmetric matrix is a type of square matrix where the top-right triangle is the same as the bottom-left triangle.\n",
    "* *It is no exaggeration to say that symmetric matrices S are the most important matrices the world will ever see – in the theory of linear algebra and also in the applications.*\n",
    "* A symmetric matrix is always square and equal to its own transpose."
   ]
  },
  {
   "cell_type": "markdown",
   "id": "d56d5095",
   "metadata": {},
   "source": [
    "### Triangular Matrix"
   ]
  },
  {
   "cell_type": "markdown",
   "id": "7e487f55",
   "metadata": {},
   "source": [
    "* A triangular matrix is a type of square matrix that has all values in the upper-right or lower-left of the matrix with the remaining elements filled with zero values.\n",
    "* A triangular matrix with values only above the main diagonal is called an **upper triangular matrix**. Whereas, a triangular matrix with values only below the main diagonal is called a **lower triangular matrix**."
   ]
  },
  {
   "cell_type": "code",
   "execution_count": 16,
   "id": "4c6bf482",
   "metadata": {},
   "outputs": [
    {
     "name": "stdout",
     "output_type": "stream",
     "text": [
      "[[1 2 3]\n",
      " [1 2 3]\n",
      " [1 2 3]]\n"
     ]
    }
   ],
   "source": [
    "M = array([[1, 2, 3], [1, 2, 3], [1, 2, 3]])\n",
    "print(M)"
   ]
  },
  {
   "cell_type": "code",
   "execution_count": 17,
   "id": "3227c5ed",
   "metadata": {},
   "outputs": [
    {
     "name": "stdout",
     "output_type": "stream",
     "text": [
      "[[1 0 0]\n",
      " [1 2 0]\n",
      " [1 2 3]]\n"
     ]
    }
   ],
   "source": [
    "from numpy import tril\n",
    "\n",
    "lower = tril(M)\n",
    "print(lower)"
   ]
  },
  {
   "cell_type": "code",
   "execution_count": 18,
   "id": "d25d7f10",
   "metadata": {},
   "outputs": [
    {
     "name": "stdout",
     "output_type": "stream",
     "text": [
      "[[1 2 3]\n",
      " [0 2 3]\n",
      " [0 0 3]]\n"
     ]
    }
   ],
   "source": [
    "from numpy import triu\n",
    "\n",
    "upper = triu(M)\n",
    "print(upper)"
   ]
  },
  {
   "cell_type": "markdown",
   "id": "16eafdd0",
   "metadata": {},
   "source": [
    "### Diagonal Matrix"
   ]
  },
  {
   "cell_type": "markdown",
   "id": "5694b25f",
   "metadata": {},
   "source": [
    "* A diagonal matrix is one where values outside of the main diagonal have a zero value, where the main diagonal is taken from the top left of the matrix to the bottom right.\n",
    "* A diagonal matrix is often denoted with the variable D and may be represented as a full matrix or as a vector of values on the main diagonal.\n",
    "* A diagonal matrix **does not have to be square**."
   ]
  },
  {
   "cell_type": "code",
   "execution_count": 19,
   "id": "48ec6884",
   "metadata": {},
   "outputs": [
    {
     "name": "stdout",
     "output_type": "stream",
     "text": [
      "[[1 2 3]\n",
      " [1 2 3]\n",
      " [1 2 3]]\n"
     ]
    }
   ],
   "source": [
    "from numpy import diag\n",
    "\n",
    "M = array([[1, 2, 3], [1, 2, 3], [1, 2, 3]])\n",
    "print(M)"
   ]
  },
  {
   "cell_type": "code",
   "execution_count": 20,
   "id": "46c4a2e7",
   "metadata": {},
   "outputs": [
    {
     "name": "stdout",
     "output_type": "stream",
     "text": [
      "[1 2 3]\n"
     ]
    }
   ],
   "source": [
    "# extract diagonal vector\n",
    "d = diag(M)\n",
    "print(d)"
   ]
  },
  {
   "cell_type": "code",
   "execution_count": 21,
   "id": "1b1d55c3",
   "metadata": {},
   "outputs": [
    {
     "name": "stdout",
     "output_type": "stream",
     "text": [
      "[[1 0 0]\n",
      " [0 2 0]\n",
      " [0 0 3]]\n"
     ]
    }
   ],
   "source": [
    "# create diagonal matrix from vector\n",
    "D = diag(d)\n",
    "print(D)"
   ]
  },
  {
   "cell_type": "markdown",
   "id": "79956e54",
   "metadata": {},
   "source": [
    "### Identity Matrix"
   ]
  },
  {
   "cell_type": "markdown",
   "id": "80287104",
   "metadata": {},
   "source": [
    "* An identity matrix is a square matrix that does not change a vector when multiplied.\n",
    "* The values of an identity matrix are known. All of the scalar values along the main diagonal (top-left to bottom-right) have the value one, while all other values are zero."
   ]
  },
  {
   "cell_type": "code",
   "execution_count": 22,
   "id": "02049a9b",
   "metadata": {},
   "outputs": [
    {
     "name": "stdout",
     "output_type": "stream",
     "text": [
      "[[1. 0. 0.]\n",
      " [0. 1. 0.]\n",
      " [0. 0. 1.]]\n"
     ]
    }
   ],
   "source": [
    "from numpy import identity\n",
    "\n",
    "I = identity(3)\n",
    "print(I)"
   ]
  },
  {
   "cell_type": "markdown",
   "id": "b37b0d97",
   "metadata": {},
   "source": [
    "Alone, the identity matrix is not that interesting, although it is a component in other import matrix operations, such as **matrix inversion**."
   ]
  },
  {
   "cell_type": "markdown",
   "id": "858f1056",
   "metadata": {},
   "source": [
    "### Orthogonal Matrix"
   ]
  },
  {
   "cell_type": "markdown",
   "id": "5bf79cce",
   "metadata": {},
   "source": [
    "* Two vectors are orthogonal **when their dot product equals zero**, called orthonormal.\n",
    "* **An Orthogonal matrix is a type of square matrix** whose columns and rows are orthonormal unit vectors, e.g. perpendicular and have a length or magnitude of 1.\n",
    "* *An orthogonal matrix is a square matrix whose rows are mutually orthonormal and whose columns are mutually orthonormal.*\n",
    "* An Orthogonal matrix is often denoted as **uppercase “Q”**.\n",
    "* Multiplication by an orthogonal matrix preserves lengths."
   ]
  },
  {
   "cell_type": "markdown",
   "id": "c3b0a9c7",
   "metadata": {},
   "source": [
    "Q^T . Q = Q . Q^T = I"
   ]
  },
  {
   "cell_type": "markdown",
   "id": "fc34210c",
   "metadata": {},
   "source": [
    "* Orthogonal matrices are used a lot for linear transformations, such as reflections and permutations."
   ]
  },
  {
   "cell_type": "code",
   "execution_count": 23,
   "id": "9910f2ed",
   "metadata": {},
   "outputs": [
    {
     "name": "stdout",
     "output_type": "stream",
     "text": [
      "[[ 1  0]\n",
      " [ 0 -1]]\n",
      "[[ 1  0]\n",
      " [ 0 -1]]\n"
     ]
    }
   ],
   "source": [
    "from numpy.linalg import inv\n",
    "\n",
    "Q = array([[1, 0], [0, -1]])\n",
    "print(Q)\n",
    "print(Q.T)"
   ]
  },
  {
   "cell_type": "code",
   "execution_count": 24,
   "id": "f1aa80ab",
   "metadata": {},
   "outputs": [
    {
     "name": "stdout",
     "output_type": "stream",
     "text": [
      "[[ 1.  0.]\n",
      " [-0. -1.]]\n"
     ]
    }
   ],
   "source": [
    "# inverse equivalence\n",
    "V = inv(Q)\n",
    "print(V)"
   ]
  },
  {
   "cell_type": "code",
   "execution_count": 25,
   "id": "514f9126",
   "metadata": {},
   "outputs": [
    {
     "name": "stdout",
     "output_type": "stream",
     "text": [
      "[[1 0]\n",
      " [0 1]]\n"
     ]
    }
   ],
   "source": [
    "# identity equivalence\n",
    "I = Q.dot(Q.T)\n",
    "print(I)"
   ]
  },
  {
   "cell_type": "markdown",
   "id": "19a2e520",
   "metadata": {},
   "source": [
    "* Orthogonal matrices are useful tools as they are computationally cheap and stable to calculate their inverse as simply their transpose."
   ]
  },
  {
   "cell_type": "markdown",
   "id": "7666608f",
   "metadata": {},
   "source": [
    "## 7. Matrix Operations."
   ]
  },
  {
   "cell_type": "markdown",
   "id": "d49037de",
   "metadata": {},
   "source": [
    "### Transpose"
   ]
  },
  {
   "cell_type": "markdown",
   "id": "046a4104",
   "metadata": {},
   "source": [
    "* A defined matrix can be transposed, which creates a new matrix with the number of columns and rows flipped.\n",
    "* This is denoted by the superscript “T” next to the matrix."
   ]
  },
  {
   "cell_type": "code",
   "execution_count": 26,
   "id": "debb85a3",
   "metadata": {},
   "outputs": [
    {
     "name": "stdout",
     "output_type": "stream",
     "text": [
      "[[1 2]\n",
      " [3 4]\n",
      " [5 6]]\n",
      "[[1 3 5]\n",
      " [2 4 6]]\n"
     ]
    }
   ],
   "source": [
    "A = array([[1, 2], [3, 4], [5, 6]])\n",
    "print(A)\n",
    "C = A.T\n",
    "print(C)"
   ]
  },
  {
   "cell_type": "markdown",
   "id": "e17d288d",
   "metadata": {},
   "source": [
    "### Inversion"
   ]
  },
  {
   "cell_type": "markdown",
   "id": "02b01b44",
   "metadata": {},
   "source": [
    "* Matrix inversion is a process that finds another matrix that when multiplied with the matrix, results in an **identity matrix**.\n",
    "* The operation of inverting a matrix is indicated by a -1 superscript next to the matrix; for example, A^-1. The result of the operation is referred to as the inverse of the original matrix.\n",
    "* A matrix is invertible if there exists another matrix that results in the identity matrix, where not all matrices are invertible. A square matrix that is not invertible is referred to as **singular**."
   ]
  },
  {
   "cell_type": "code",
   "execution_count": 27,
   "id": "6f3ee451",
   "metadata": {},
   "outputs": [
    {
     "name": "stdout",
     "output_type": "stream",
     "text": [
      "[[-2.   1. ]\n",
      " [ 1.5 -0.5]]\n"
     ]
    }
   ],
   "source": [
    "from numpy.linalg import inv\n",
    "\n",
    "A = array([[1.0, 2.0], [3.0, 4.0]])\n",
    "B = inv(A)\n",
    "print(B)"
   ]
  },
  {
   "cell_type": "code",
   "execution_count": 28,
   "id": "aa891b20",
   "metadata": {},
   "outputs": [
    {
     "name": "stdout",
     "output_type": "stream",
     "text": [
      "[[1.00000000e+00 1.11022302e-16]\n",
      " [0.00000000e+00 1.00000000e+00]]\n"
     ]
    }
   ],
   "source": [
    "# Identity matrix\n",
    "I = A.dot(B)\n",
    "print(I)"
   ]
  },
  {
   "cell_type": "markdown",
   "id": "12a878e8",
   "metadata": {},
   "source": [
    "* Matrix inversion is used as an operation in solving systems of equations framed as matrix equations where we are interested in finding vectors of unknowns. A good example is in **finding the vector of coefficient values in linear regression**."
   ]
  },
  {
   "cell_type": "markdown",
   "id": "624700cf",
   "metadata": {},
   "source": [
    "### Trace"
   ]
  },
  {
   "cell_type": "markdown",
   "id": "667ea69a",
   "metadata": {},
   "source": [
    "* A trace of a square matrix is the sum of the values on the main diagonal of the matrix (top-left to bottom-right).\n",
    "* The operation of calculating a trace on a square matrix is described using the notation **“tr(A)”** where A is the square matrix on which the operation is being performed."
   ]
  },
  {
   "cell_type": "code",
   "execution_count": 29,
   "id": "77054a64",
   "metadata": {},
   "outputs": [
    {
     "name": "stdout",
     "output_type": "stream",
     "text": [
      "15\n"
     ]
    }
   ],
   "source": [
    "from numpy import trace\n",
    "\n",
    "A = array([[1, 2, 3], [4, 5, 6], [7, 8, 9]])\n",
    "B = trace(A)\n",
    "print(B)"
   ]
  },
  {
   "cell_type": "code",
   "execution_count": 30,
   "id": "7c727535",
   "metadata": {},
   "outputs": [
    {
     "name": "stdout",
     "output_type": "stream",
     "text": [
      "15\n"
     ]
    }
   ],
   "source": [
    "# Extracting main diagonal from matrix and sumimg all values\n",
    "C = diag(A).sum()\n",
    "print(C)"
   ]
  },
  {
   "cell_type": "markdown",
   "id": "9bb87d8d",
   "metadata": {},
   "source": [
    "* Alone, the trace operation is not interesting, but it offers a simpler notation and it is used as an element in other key matrix operations."
   ]
  },
  {
   "cell_type": "markdown",
   "id": "d5b27e7a",
   "metadata": {},
   "source": [
    "### Determinant"
   ]
  },
  {
   "cell_type": "markdown",
   "id": "983b3e75",
   "metadata": {},
   "source": [
    "* The determinant of a square matrix is a scalar representation of the volume of the matrix.\n",
    "* *The determinant describes the relative geometry of the vectors that make up the rows of the matrix. More specifically, the determinant of a matrix A tells you the volume of a box with sides given by rows of A.*\n",
    "* It is denoted by the **“det(A)”** notation or |A|, where A is the matrix on which we are calculating the determinant.\n",
    "* The determinant of a square matrix is calculated from the elements of the matrix. More technically, **the determinant is the product of all the eigenvalues of the matrix**.\n",
    "* The intuition for the determinant is that it describes the way a matrix will scale another matrix when they are multiplied together. For example, **a determinant of 1 preserves the space of the other matrix. A determinant of 0 indicates that the matrix cannot be inverted**."
   ]
  },
  {
   "cell_type": "code",
   "execution_count": 31,
   "id": "88d0d4d4",
   "metadata": {},
   "outputs": [
    {
     "name": "stdout",
     "output_type": "stream",
     "text": [
      "-9.51619735392994e-16\n"
     ]
    }
   ],
   "source": [
    "from numpy.linalg import det\n",
    "\n",
    "A = array([[1, 2, 3], [4, 5, 6], [7, 8, 9]])\n",
    "B = det(A)\n",
    "print(B)"
   ]
  },
  {
   "cell_type": "markdown",
   "id": "abeb094d",
   "metadata": {},
   "source": [
    "* Like the trace operation, alone, the determinant operation is not interesting, but it offers a simpler notation and it is used as an element in other key matrix operations."
   ]
  },
  {
   "cell_type": "markdown",
   "id": "321fd64e",
   "metadata": {},
   "source": [
    "### Rank"
   ]
  },
  {
   "cell_type": "markdown",
   "id": "94d3f790",
   "metadata": {},
   "source": [
    "* The rank of a matrix is the estimate of the number of linearly independent rows or columns in a matrix.\n",
    "* The rank of a matrix M is often denoted as the function **rank()**. For example: rank(A).\n",
    "* An intuition for rank is to consider it the number of dimensions spanned by all of the vectors within a matrix. For example, **a rank of 0 suggest all vectors span a point, a rank of 1 suggests all vectors span a line, a rank of 2 suggests all vectors span a two-dimensional plane**.\n",
    "* The rank is estimated numerically, often using a matrix decomposition method. A common approach is to use the Singular-Value Decomposition or SVD for short."
   ]
  },
  {
   "cell_type": "markdown",
   "id": "2f88eea0",
   "metadata": {},
   "source": [
    "### a. Vector rank"
   ]
  },
  {
   "cell_type": "code",
   "execution_count": 32,
   "id": "907d0747",
   "metadata": {},
   "outputs": [
    {
     "name": "stdout",
     "output_type": "stream",
     "text": [
      "1\n"
     ]
    }
   ],
   "source": [
    "from numpy.linalg import matrix_rank\n",
    "\n",
    "v1 = array([1,2,3])\n",
    "v1_rank = matrix_rank(v1)\n",
    "print(v1_rank)"
   ]
  },
  {
   "cell_type": "code",
   "execution_count": 33,
   "id": "10140a44",
   "metadata": {},
   "outputs": [
    {
     "name": "stdout",
     "output_type": "stream",
     "text": [
      "0\n"
     ]
    }
   ],
   "source": [
    "# zero rank\n",
    "v2 = array([0,0,0,0,0])\n",
    "v2_rank = matrix_rank(v2)\n",
    "print(v2_rank)"
   ]
  },
  {
   "cell_type": "markdown",
   "id": "c23dbec1",
   "metadata": {},
   "source": [
    "### b. Matrix rank"
   ]
  },
  {
   "cell_type": "code",
   "execution_count": 34,
   "id": "0f4ddeb2",
   "metadata": {},
   "outputs": [
    {
     "name": "stdout",
     "output_type": "stream",
     "text": [
      "0\n"
     ]
    }
   ],
   "source": [
    "M0 = array([[0,0],[0,0]])\n",
    "mr0 = matrix_rank(M0)\n",
    "print(mr0)"
   ]
  },
  {
   "cell_type": "code",
   "execution_count": 35,
   "id": "74702a1d",
   "metadata": {},
   "outputs": [
    {
     "name": "stdout",
     "output_type": "stream",
     "text": [
      "1\n"
     ]
    }
   ],
   "source": [
    "# rank 1\n",
    "M1 = array([[1,2],[2,4]])\n",
    "mr1 = matrix_rank(M1)\n",
    "print(mr1)"
   ]
  },
  {
   "cell_type": "code",
   "execution_count": 36,
   "id": "85452b46",
   "metadata": {},
   "outputs": [
    {
     "name": "stdout",
     "output_type": "stream",
     "text": [
      "2\n"
     ]
    }
   ],
   "source": [
    "# rank 2\n",
    "M2 = array([[1,2],[3,4]])\n",
    "mr2 = matrix_rank(M2)\n",
    "print(mr2)"
   ]
  },
  {
   "cell_type": "code",
   "execution_count": null,
   "id": "adbe35f9",
   "metadata": {},
   "outputs": [],
   "source": []
  }
 ],
 "metadata": {
  "kernelspec": {
   "display_name": "Python 3",
   "language": "python",
   "name": "python3"
  },
  "language_info": {
   "codemirror_mode": {
    "name": "ipython",
    "version": 3
   },
   "file_extension": ".py",
   "mimetype": "text/x-python",
   "name": "python",
   "nbconvert_exporter": "python",
   "pygments_lexer": "ipython3",
   "version": "3.7.3"
  }
 },
 "nbformat": 4,
 "nbformat_minor": 5
}

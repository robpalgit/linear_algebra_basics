{
 "cells": [
  {
   "cell_type": "markdown",
   "id": "371253ef",
   "metadata": {},
   "source": [
    "# Introduction to Matrix Decomposition for Machine Learning"
   ]
  },
  {
   "cell_type": "markdown",
   "id": "414136af",
   "metadata": {},
   "source": [
    "1. What is a Matrix Decomposition?\n",
    "2. LU Matrix Decomposition.\n",
    "3. QR Matrix Decomposition.\n",
    "4. Cholesky Decomposition.\n",
    "5. Introduction to Eigendecomposition.\n",
    "    * Eigenvectors and Eigenvalues.\n",
    "6. Calculation of Eigendecomposition.\n",
    "    * Calculate Eigenvectors and Eigenvalues.\n",
    "    * Confirm an Eigenvector and Eigenvalue.\n",
    "    * Reconstruct Original Matrix."
   ]
  },
  {
   "cell_type": "markdown",
   "id": "22297480",
   "metadata": {},
   "source": [
    "## 1. What is a Matrix Decomposition?"
   ]
  },
  {
   "cell_type": "markdown",
   "id": "6ccc2d47",
   "metadata": {},
   "source": [
    "* A matrix decomposition is a way of reducing a matrix into its constituent parts.\n",
    "* It is an approach that can simplify more complex matrix operations that can be performed on the decomposed matrix rather than on the original matrix itself.\n",
    "* A common analogy for matrix decomposition is the factoring of numbers, such as the factoring of 10 into 2 x 5. For this reason, matrix decomposition is also called matrix factorization. Like factoring real values, there are many ways to decompose a matrix, hence there are a range of different matrix decomposition techniques."
   ]
  },
  {
   "cell_type": "markdown",
   "id": "cf6ec71a",
   "metadata": {},
   "source": [
    "## 2. LU Matrix Decomposition."
   ]
  },
  {
   "cell_type": "markdown",
   "id": "92e1f606",
   "metadata": {},
   "source": [
    "The LU decomposition is for **square matrices** and decomposes a matrix into L and U components:\n",
    "\n",
    "A = L . U\n",
    "\n",
    "* A is the square matrix that we wish to decompose.\n",
    "* L is the lower triangle matrix.\n",
    "* U is the upper triangle matrix."
   ]
  },
  {
   "cell_type": "markdown",
   "id": "a0579511",
   "metadata": {},
   "source": [
    "A variation of this decomposition that is numerically more stable to solve in practice is called the **LUP decomposition, or the LU decomposition with partial pivoting**.\n",
    "\n",
    "A = P . L . U\n",
    "\n",
    "* The rows of the parent matrix are re-ordered to simplify the decomposition process and the additional P matrix specifies a way to permute the result or return the result to the original order."
   ]
  },
  {
   "cell_type": "markdown",
   "id": "ee207ce8",
   "metadata": {},
   "source": [
    "* There are also other variations of the LU.\n",
    "* The LU decomposition is often used to simplify the solving of systems of linear equations, such as **finding the coefficients in a linear regression**, as well as in calculating the determinant and inverse of a matrix."
   ]
  },
  {
   "cell_type": "code",
   "execution_count": 1,
   "id": "c30deb9b",
   "metadata": {},
   "outputs": [
    {
     "name": "stdout",
     "output_type": "stream",
     "text": [
      "[[1 2 3]\n",
      " [4 5 6]\n",
      " [7 8 9]]\n"
     ]
    }
   ],
   "source": [
    "from numpy import array\n",
    "from scipy.linalg import lu\n",
    "\n",
    "A = array([[1, 2, 3], [4, 5, 6], [7, 8, 9]])\n",
    "print(A)"
   ]
  },
  {
   "cell_type": "code",
   "execution_count": 2,
   "id": "24b3ef85",
   "metadata": {},
   "outputs": [
    {
     "name": "stdout",
     "output_type": "stream",
     "text": [
      "[[0. 1. 0.]\n",
      " [0. 0. 1.]\n",
      " [1. 0. 0.]]\n",
      "[[1.         0.         0.        ]\n",
      " [0.14285714 1.         0.        ]\n",
      " [0.57142857 0.5        1.        ]]\n",
      "[[ 7.00000000e+00  8.00000000e+00  9.00000000e+00]\n",
      " [ 0.00000000e+00  8.57142857e-01  1.71428571e+00]\n",
      " [ 0.00000000e+00  0.00000000e+00 -1.58603289e-16]]\n"
     ]
    }
   ],
   "source": [
    "# LU decomposition\n",
    "P, L, U = lu(A)\n",
    "print(P)\n",
    "print(L)\n",
    "print(U)"
   ]
  },
  {
   "cell_type": "code",
   "execution_count": 3,
   "id": "36a48c66",
   "metadata": {},
   "outputs": [
    {
     "name": "stdout",
     "output_type": "stream",
     "text": [
      "[[1. 2. 3.]\n",
      " [4. 5. 6.]\n",
      " [7. 8. 9.]]\n"
     ]
    }
   ],
   "source": [
    "# reconstruct the original matrix\n",
    "B = P.dot(L).dot(U)\n",
    "print(B)"
   ]
  },
  {
   "cell_type": "markdown",
   "id": "a167fc18",
   "metadata": {},
   "source": [
    "## 3. QR Matrix Decomposition."
   ]
  },
  {
   "cell_type": "markdown",
   "id": "ab86eaa7",
   "metadata": {},
   "source": [
    "The QR decomposition is for m x n matrices **(not limited to square matrices)** and decomposes a matrix into Q and R components:\n",
    "\n",
    "A = Q . R\n",
    "\n",
    "* A is the matrix that we wish to decompose.\n",
    "* Q a matrix with the size m x m.\n",
    "* R is an upper triangle matrix with the size m x n."
   ]
  },
  {
   "cell_type": "markdown",
   "id": "10ece712",
   "metadata": {},
   "source": [
    "The QR decomposition can be implemented in NumPy using the **qr()** function. By default, the function returns the Q and R matrices with smaller or **‘reduced’** dimensions that is more economical. We can change this to return the expected sizes of m x m for Q and m x n for R by specifying the mode argument as **‘complete’**, although this is not required for most applications."
   ]
  },
  {
   "cell_type": "code",
   "execution_count": 4,
   "id": "8897739d",
   "metadata": {},
   "outputs": [
    {
     "name": "stdout",
     "output_type": "stream",
     "text": [
      "[[1 2]\n",
      " [3 4]\n",
      " [5 6]]\n"
     ]
    }
   ],
   "source": [
    "from numpy import array\n",
    "from numpy.linalg import qr\n",
    "\n",
    "A = array([[1, 2], [3, 4], [5, 6]])\n",
    "print(A)"
   ]
  },
  {
   "cell_type": "code",
   "execution_count": 5,
   "id": "4da3a2d5",
   "metadata": {},
   "outputs": [
    {
     "name": "stdout",
     "output_type": "stream",
     "text": [
      "[[-0.16903085  0.89708523  0.40824829]\n",
      " [-0.50709255  0.27602622 -0.81649658]\n",
      " [-0.84515425 -0.34503278  0.40824829]]\n",
      "[[-5.91607978 -7.43735744]\n",
      " [ 0.          0.82807867]\n",
      " [ 0.          0.        ]]\n"
     ]
    }
   ],
   "source": [
    "# QR decomposition\n",
    "Q, R = qr(A, 'complete')\n",
    "print(Q)\n",
    "print(R)"
   ]
  },
  {
   "cell_type": "code",
   "execution_count": 6,
   "id": "3804c658",
   "metadata": {},
   "outputs": [
    {
     "name": "stdout",
     "output_type": "stream",
     "text": [
      "[[1. 2.]\n",
      " [3. 4.]\n",
      " [5. 6.]]\n"
     ]
    }
   ],
   "source": [
    "# reconstruct the original matrix\n",
    "B = Q.dot(R)\n",
    "print(B)"
   ]
  },
  {
   "cell_type": "markdown",
   "id": "13acec84",
   "metadata": {},
   "source": [
    "## 4. Cholesky Decomposition."
   ]
  },
  {
   "cell_type": "markdown",
   "id": "6f044a2f",
   "metadata": {},
   "source": [
    "The Cholesky decomposition is for **square symmetric matrices** where **all eigenvalues are greater than zero**, so-called **positive definite matrices**:\n",
    "\n",
    "A = L . L^T\n",
    "\n",
    "* A is the matrix being decomposed.\n",
    "* L is the lower triangular matrix.\n",
    "* L^T is the transpose of L."
   ]
  },
  {
   "cell_type": "markdown",
   "id": "bcc42b07",
   "metadata": {},
   "source": [
    "The decompose can also be written as the product of the upper triangular matrix, for example:\n",
    "\n",
    "A = U^T . U"
   ]
  },
  {
   "cell_type": "markdown",
   "id": "6be4399c",
   "metadata": {},
   "source": [
    "* The Cholesky decomposition is used for **solving linear least squares for linear regression**, as well as **simulation and optimization methods**.\n",
    "* **When decomposing symmetric matrices**, the Cholesky decomposition is nearly twice as efficient as the LU decomposition and should be preferred in these cases.\n",
    "* The Cholesky decomposition can be implemented in NumPy by calling the **cholesky()** function. The function only returns L as we can easily access the L transpose as needed."
   ]
  },
  {
   "cell_type": "code",
   "execution_count": 7,
   "id": "49aca89e",
   "metadata": {},
   "outputs": [
    {
     "name": "stdout",
     "output_type": "stream",
     "text": [
      "[[2 1 1]\n",
      " [1 2 1]\n",
      " [1 1 2]]\n"
     ]
    }
   ],
   "source": [
    "from numpy import array\n",
    "from numpy.linalg import cholesky\n",
    "\n",
    "A = array([[2, 1, 1], [1, 2, 1], [1, 1, 2]])\n",
    "print(A)"
   ]
  },
  {
   "cell_type": "code",
   "execution_count": 8,
   "id": "45a64551",
   "metadata": {},
   "outputs": [
    {
     "name": "stdout",
     "output_type": "stream",
     "text": [
      "[[1.41421356 0.         0.        ]\n",
      " [0.70710678 1.22474487 0.        ]\n",
      " [0.70710678 0.40824829 1.15470054]]\n"
     ]
    }
   ],
   "source": [
    "# Cholesky decomposition\n",
    "L = cholesky(A)\n",
    "print(L)"
   ]
  },
  {
   "cell_type": "code",
   "execution_count": 9,
   "id": "2c2f58cf",
   "metadata": {},
   "outputs": [
    {
     "name": "stdout",
     "output_type": "stream",
     "text": [
      "[[2. 1. 1.]\n",
      " [1. 2. 1.]\n",
      " [1. 1. 2.]]\n"
     ]
    }
   ],
   "source": [
    "# reconstruct the original matrix\n",
    "B = L.dot(L.T)\n",
    "print(B)"
   ]
  },
  {
   "cell_type": "markdown",
   "id": "0eec4e99",
   "metadata": {},
   "source": [
    "## 5. Introduction to Eigendecomposition."
   ]
  },
  {
   "cell_type": "markdown",
   "id": "70ad2b59",
   "metadata": {},
   "source": [
    "Eigendecomposition of a matrix is a type of decomposition that involves decomposing a **square matrix** into a set of eigenvectors and eigenvalues:\n",
    "\n",
    "A . v = lambda . v\n",
    "\n",
    "* A is the parent square matrix that we are decomposing.\n",
    "* v is the eigenvector of the matrix \n",
    "* lambda is the lowercase Greek letter and represents the eigenvalue scalar."
   ]
  },
  {
   "cell_type": "markdown",
   "id": "6ff2dd33",
   "metadata": {},
   "source": [
    "A matrix could have one eigenvector and eigenvalue for each dimension of the parent matrix. **Not all square matrices can be decomposed into eigenvectors and eigenvalues**, and some can only be decomposed in a way that requires complex numbers."
   ]
  },
  {
   "cell_type": "markdown",
   "id": "9928d1c0",
   "metadata": {},
   "source": [
    "The parent matrix can be shown to be a product of the eigenvectors and eigenvalues:\n",
    "\n",
    "A = Q . diag(V) . Q^-1\n",
    "\n",
    "* Q is a matrix comprised of the eigenvectors.\n",
    "* diag(V) is a diagonal matrix comprised of the eigenvalues along the diagonal (sometimes represented with a capital lambda).\n",
    "* Q^-1 is the inverse of the matrix comprised of the eigenvectors."
   ]
  },
  {
   "cell_type": "markdown",
   "id": "c2755aaf",
   "metadata": {},
   "source": [
    "*Almost all vectors change direction, when they are multiplied by A. Certain exceptional vectors x are in the same direction as Ax. Those are the “eigenvectors”. Multiply an eigenvector by A, and the vector Ax is the number lambda times the original x. […] The eigenvalue lambda tells whether the special vector x is stretched or shrunk or reversed or left unchanged – when it is multiplied by A.*"
   ]
  },
  {
   "cell_type": "markdown",
   "id": "f612711e",
   "metadata": {},
   "source": [
    "Eigendecomposition can also be used to calculate the principal components of a matrix in the **Principal Component Analysis method or PCA** that can be used to reduce the dimensionality of data in machine learning."
   ]
  },
  {
   "cell_type": "markdown",
   "id": "923c424e",
   "metadata": {},
   "source": [
    "### Eigenvectors and Eigenvalues"
   ]
  },
  {
   "cell_type": "markdown",
   "id": "6395f3a4",
   "metadata": {},
   "source": [
    "* **Eigenvectors** are unit vectors, which means that **their length or magnitude is equal to 1.0**.\n",
    "* They are often referred as right vectors, which simply means a column vector (as opposed to a row vector or a left vector). A right-vector is a vector as we understand them.\n",
    "* **Eigenvalues** are coefficients applied to eigenvectors that **give the vectors their length or magnitude**. For example, a negative eigenvalue may reverse the direction of the eigenvector as part of scaling it.\n",
    "* A matrix that has only positive eigenvalues is referred to as a **positive definite matrix**, whereas if the eigenvalues are all negative, it is referred to as a **negative definite matrix**.\n",
    "* *Decomposing a matrix in terms of its eigenvalues and its eigenvectors gives valuable insights into the properties of the matrix. Certain matrix calculations, like **computing the power of the matrix**, become much easier when we use the eigendecomposition of the matrix.*"
   ]
  },
  {
   "cell_type": "markdown",
   "id": "72f4b880",
   "metadata": {},
   "source": [
    "## 6. Calculation of Eigendecomposition."
   ]
  },
  {
   "cell_type": "markdown",
   "id": "d8791625",
   "metadata": {},
   "source": [
    "### Calculate Eigenvectors and Eigenvalues"
   ]
  },
  {
   "cell_type": "code",
   "execution_count": 10,
   "id": "94d62363",
   "metadata": {},
   "outputs": [
    {
     "name": "stdout",
     "output_type": "stream",
     "text": [
      "[ 1.61168440e+01 -1.11684397e+00 -9.75918483e-16]\n",
      "[[-0.23197069 -0.78583024  0.40824829]\n",
      " [-0.52532209 -0.08675134 -0.81649658]\n",
      " [-0.8186735   0.61232756  0.40824829]]\n"
     ]
    }
   ],
   "source": [
    "from numpy import array\n",
    "from numpy.linalg import eig\n",
    "\n",
    "A = array([[1, 2, 3], [4, 5, 6], [7, 8, 9]])\n",
    "values, vectors = eig(A)\n",
    "print(values)\n",
    "print(vectors)"
   ]
  },
  {
   "cell_type": "markdown",
   "id": "f41ac1ce",
   "metadata": {},
   "source": [
    "### Confirm an Eigenvector and Eigenvalue"
   ]
  },
  {
   "cell_type": "code",
   "execution_count": 11,
   "id": "c6abd970",
   "metadata": {},
   "outputs": [
    {
     "name": "stdout",
     "output_type": "stream",
     "text": [
      "[ -3.73863537  -8.46653421 -13.19443305]\n",
      "[ -3.73863537  -8.46653421 -13.19443305]\n"
     ]
    }
   ],
   "source": [
    "# confirm first eigenvector\n",
    "B = A.dot(vectors[:, 0])\n",
    "print(B)\n",
    "\n",
    "C = vectors[:, 0] * values[0]\n",
    "print(C)\n",
    "\n",
    "# B must be equal to C"
   ]
  },
  {
   "cell_type": "markdown",
   "id": "17adebfd",
   "metadata": {},
   "source": [
    "### Reconstruct Original Matrix"
   ]
  },
  {
   "cell_type": "code",
   "execution_count": 12,
   "id": "e3b16c00",
   "metadata": {},
   "outputs": [
    {
     "name": "stdout",
     "output_type": "stream",
     "text": [
      "[[1. 2. 3.]\n",
      " [4. 5. 6.]\n",
      " [7. 8. 9.]]\n"
     ]
    }
   ],
   "source": [
    "from numpy import diag\n",
    "from numpy import dot\n",
    "from numpy.linalg import inv\n",
    "\n",
    "# create matrix from eigenvectors\n",
    "Q = vectors\n",
    "# create inverse of eigenvectors matrix\n",
    "R = inv(Q)\n",
    "# create diagonal matrix from eigenvalues\n",
    "L = diag(values)\n",
    "# reconstruct the original matrix\n",
    "B = Q.dot(L).dot(R)\n",
    "print(B)"
   ]
  },
  {
   "cell_type": "code",
   "execution_count": 13,
   "id": "7a86077e",
   "metadata": {},
   "outputs": [
    {
     "name": "stdout",
     "output_type": "stream",
     "text": [
      "[[1 2 3]\n",
      " [4 5 6]\n",
      " [7 8 9]]\n"
     ]
    }
   ],
   "source": [
    "print(A)"
   ]
  },
  {
   "cell_type": "code",
   "execution_count": null,
   "id": "c653fb92",
   "metadata": {},
   "outputs": [],
   "source": []
  }
 ],
 "metadata": {
  "kernelspec": {
   "display_name": "Python 3",
   "language": "python",
   "name": "python3"
  },
  "language_info": {
   "codemirror_mode": {
    "name": "ipython",
    "version": 3
   },
   "file_extension": ".py",
   "mimetype": "text/x-python",
   "name": "python",
   "nbconvert_exporter": "python",
   "pygments_lexer": "ipython3",
   "version": "3.7.3"
  }
 },
 "nbformat": 4,
 "nbformat_minor": 5
}
